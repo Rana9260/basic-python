{
 "cells": [
  {
   "cell_type": "markdown",
   "id": "69ddbe94-e79b-4520-9753-36b8bd8dc5d2",
   "metadata": {},
   "source": [
    "# Assignment"
   ]
  },
  {
   "cell_type": "markdown",
   "id": "6f561185-b15f-4f3d-88c7-f849e705a726",
   "metadata": {},
   "source": [
    "### Question (1) Explain the key feature of python that make it a popular choice for programming.."
   ]
  },
  {
   "cell_type": "markdown",
   "id": "cbaf6cfd-b7e8-471a-84d4-2eb4d1fe3231",
   "metadata": {},
   "source": [
    "Ans = Python is programming language that easy to understand and easy to use or easy to write, python is very-developer\n",
    "friendly language , which means that it can be learned in a matter of hours or day by anyone.\n",
    "Python is one of the easiest object - oriented programming language to learn when compared to java , c, c++,julia, rast\n",
    "and python is developed by 1991 is GUIDO VAN ROSSUM..\n",
    "*Key feature of python-:\n",
    "*Easy to use.\n",
    "*python are huge active community\n",
    "*Ease of learning.\n",
    "*widely used in the technical industry.\n",
    "*used in data industry.\n",
    "*used in Automation.\n",
    "*used in Image processing.\n",
    "*A lot of liabraries \n",
    "*IDEs - Integrated development enviroment software ( Panda . google colab , nam pad , vs-code ).\n",
    "*Python are more than 137000 liabraries.\n",
    "*Python are widely used in frontend , backent , data analyst , data science , machine learning etc"
   ]
  },
  {
   "cell_type": "markdown",
   "id": "508b9257-0396-409e-832a-7c399f9b130c",
   "metadata": {
    "tags": []
   },
   "source": [
    "### Question (2) Describe the role of predefined keywords in python and provide exmaple of how they are used in a program."
   ]
  },
  {
   "cell_type": "markdown",
   "id": "abda0bdc-937d-4060-a4f9-b31632ce0b6f",
   "metadata": {},
   "source": [
    "Ans = keywords are predefined words that hold a special meaning and have specific purpose in python programming.\n",
    "Python are help us to create and excute code in a very easy and succefully and you can not use a keywords in variable and \n",
    "assignment."
   ]
  },
  {
   "cell_type": "code",
   "execution_count": 5,
   "id": "5cedbf25-19d2-4b49-a8b4-f767c0e7f344",
   "metadata": {},
   "outputs": [
    {
     "name": "stdout",
     "output_type": "stream",
     "text": [
      "\n",
      "Here is a list of the Python keywords.  Enter any keyword to get more help.\n",
      "\n",
      "False               class               from                or\n",
      "None                continue            global              pass\n",
      "True                def                 if                  raise\n",
      "and                 del                 import              return\n",
      "as                  elif                in                  try\n",
      "assert              else                is                  while\n",
      "async               except              lambda              with\n",
      "await               finally             nonlocal            yield\n",
      "break               for                 not                 \n",
      "\n"
     ]
    }
   ],
   "source": [
    "help(\"keywords\")"
   ]
  },
  {
   "cell_type": "markdown",
   "id": "bd5e6352-fc9b-4ecd-b235-53693edfd160",
   "metadata": {},
   "source": [
    "so here many predefined keywords . they are help to execute and also define the syntax of code."
   ]
  },
  {
   "cell_type": "raw",
   "id": "1ea1207d-02d4-46a3-8da9-08a5d9228f83",
   "metadata": {},
   "source": [
    "Types of variables / Identifires\n",
    "*int\n",
    "*str\n",
    "*boolean\n",
    "*float\n",
    "*none >> nothing\n",
    "*complex"
   ]
  },
  {
   "cell_type": "markdown",
   "id": "9b10acf0-eaa9-429a-860b-3b1170f87d6e",
   "metadata": {},
   "source": [
    "### example of how they are used in code --"
   ]
  },
  {
   "cell_type": "code",
   "execution_count": 7,
   "id": "ef60bae9-eb7a-4cc0-9b22-029a895297b8",
   "metadata": {},
   "outputs": [
    {
     "name": "stdout",
     "output_type": "stream",
     "text": [
      "what is your name\n"
     ]
    }
   ],
   "source": [
    "## if we use a (print) keyword >> if you want to print anything just write and using this keyword to execute this code..\n",
    "##example\n",
    "print(\"what is your name\")"
   ]
  },
  {
   "cell_type": "code",
   "execution_count": 9,
   "id": "f744b180-0c85-4b37-9f19-900379c74a45",
   "metadata": {},
   "outputs": [
    {
     "name": "stdout",
     "output_type": "stream",
     "text": [
      "123\n"
     ]
    }
   ],
   "source": [
    "print(\"123\")\n",
    "      "
   ]
  },
  {
   "cell_type": "raw",
   "id": "d15dc68a-cddf-4d54-abc2-dbd46f833d55",
   "metadata": {},
   "source": [
    "### we use of keywords := types of keywords to help us to know the nature of variable >> and we can say also \n",
    "type of variable.."
   ]
  },
  {
   "cell_type": "code",
   "execution_count": 11,
   "id": "8ccfa70d-b9da-4e48-ae95-a0434def770c",
   "metadata": {},
   "outputs": [
    {
     "data": {
      "text/plain": [
       "str"
      ]
     },
     "execution_count": 11,
     "metadata": {},
     "output_type": "execute_result"
    }
   ],
   "source": [
    "a = (\"12\")\n",
    "type(a)"
   ]
  },
  {
   "cell_type": "code",
   "execution_count": 12,
   "id": "23cebb8e-64d3-428c-83ec-b9988e116fbd",
   "metadata": {},
   "outputs": [
    {
     "data": {
      "text/plain": [
       "str"
      ]
     },
     "execution_count": 12,
     "metadata": {},
     "output_type": "execute_result"
    }
   ],
   "source": [
    "b = (\"abhi\")\n",
    "type(\"b\")"
   ]
  },
  {
   "cell_type": "code",
   "execution_count": 14,
   "id": "cb429c4f-a0db-49d7-b58f-2555cda905aa",
   "metadata": {},
   "outputs": [
    {
     "data": {
      "text/plain": [
       "float"
      ]
     },
     "execution_count": 14,
     "metadata": {},
     "output_type": "execute_result"
    }
   ],
   "source": [
    "c = 35.5\n",
    "type(c)"
   ]
  },
  {
   "cell_type": "code",
   "execution_count": 16,
   "id": "7a8bfbc0-fe81-4b86-96ee-7d2f54a6a009",
   "metadata": {},
   "outputs": [
    {
     "data": {
      "text/plain": [
       "False"
      ]
     },
     "execution_count": 16,
     "metadata": {},
     "output_type": "execute_result"
    }
   ],
   "source": [
    "d = 0\n",
    "bool(d)"
   ]
  },
  {
   "cell_type": "code",
   "execution_count": 17,
   "id": "db5bb096-cb50-48ab-8961-6040140a09c4",
   "metadata": {},
   "outputs": [
    {
     "data": {
      "text/plain": [
       "True"
      ]
     },
     "execution_count": 17,
     "metadata": {},
     "output_type": "execute_result"
    }
   ],
   "source": [
    "e = 12\n",
    "bool(e)"
   ]
  },
  {
   "cell_type": "code",
   "execution_count": 19,
   "id": "1bab5b2e-bbfe-4dd5-b7d8-37f0c3ec26d5",
   "metadata": {},
   "outputs": [],
   "source": [
    "## None type of keywords didnt execute.....\n",
    "f = 10\n",
    "None"
   ]
  },
  {
   "cell_type": "code",
   "execution_count": 20,
   "id": "b0e46adf-4d93-49c5-816e-500475d5bdd3",
   "metadata": {},
   "outputs": [],
   "source": [
    "### use of and keywords... "
   ]
  },
  {
   "cell_type": "code",
   "execution_count": 21,
   "id": "9972c08f-f3e3-4e34-b1ba-200b738bd816",
   "metadata": {},
   "outputs": [
    {
     "data": {
      "text/plain": [
       "False"
      ]
     },
     "execution_count": 21,
     "metadata": {},
     "output_type": "execute_result"
    }
   ],
   "source": [
    "True & False"
   ]
  },
  {
   "cell_type": "code",
   "execution_count": 22,
   "id": "bbae1194-25e4-4b9e-8db0-6b91fecf1f82",
   "metadata": {},
   "outputs": [
    {
     "data": {
      "text/plain": [
       "False"
      ]
     },
     "execution_count": 22,
     "metadata": {},
     "output_type": "execute_result"
    }
   ],
   "source": [
    "False & True"
   ]
  },
  {
   "cell_type": "code",
   "execution_count": 23,
   "id": "c1f4dc47-afc2-41d4-83ac-0a954ca927e6",
   "metadata": {},
   "outputs": [
    {
     "data": {
      "text/plain": [
       "True"
      ]
     },
     "execution_count": 23,
     "metadata": {},
     "output_type": "execute_result"
    }
   ],
   "source": [
    "True & True"
   ]
  },
  {
   "cell_type": "code",
   "execution_count": 24,
   "id": "a8f11c57-bb6b-4005-9398-242cbc32baa8",
   "metadata": {},
   "outputs": [
    {
     "data": {
      "text/plain": [
       "False"
      ]
     },
     "execution_count": 24,
     "metadata": {},
     "output_type": "execute_result"
    }
   ],
   "source": [
    "False & False"
   ]
  },
  {
   "cell_type": "code",
   "execution_count": 25,
   "id": "d48be14b-35cd-48c4-a185-34f86b7081dc",
   "metadata": {},
   "outputs": [],
   "source": [
    "### use of or keyword..."
   ]
  },
  {
   "cell_type": "code",
   "execution_count": 26,
   "id": "6a549243-2d2e-4c0b-b3c2-bac4326b3f5c",
   "metadata": {},
   "outputs": [
    {
     "data": {
      "text/plain": [
       "True"
      ]
     },
     "execution_count": 26,
     "metadata": {},
     "output_type": "execute_result"
    }
   ],
   "source": [
    "True | False"
   ]
  },
  {
   "cell_type": "code",
   "execution_count": 27,
   "id": "a97336b6-2d5f-41fe-a823-69bfc699892a",
   "metadata": {},
   "outputs": [
    {
     "data": {
      "text/plain": [
       "True"
      ]
     },
     "execution_count": 27,
     "metadata": {},
     "output_type": "execute_result"
    }
   ],
   "source": [
    "True | True"
   ]
  },
  {
   "cell_type": "code",
   "execution_count": 28,
   "id": "1d4b519d-81ed-41b2-81b4-317658a8c9d9",
   "metadata": {},
   "outputs": [
    {
     "data": {
      "text/plain": [
       "True"
      ]
     },
     "execution_count": 28,
     "metadata": {},
     "output_type": "execute_result"
    }
   ],
   "source": [
    "False | True"
   ]
  },
  {
   "cell_type": "code",
   "execution_count": 29,
   "id": "ac1554fa-e908-4c59-b661-4573015c3883",
   "metadata": {},
   "outputs": [
    {
     "data": {
      "text/plain": [
       "False"
      ]
     },
     "execution_count": 29,
     "metadata": {},
     "output_type": "execute_result"
    }
   ],
   "source": [
    "False | False"
   ]
  },
  {
   "cell_type": "code",
   "execution_count": 30,
   "id": "8dd6d002-baeb-4d1f-870d-d942a54e7477",
   "metadata": {},
   "outputs": [],
   "source": [
    "## if we use to if else elif operator..."
   ]
  },
  {
   "cell_type": "code",
   "execution_count": 31,
   "id": "82dd5a87-9579-4b97-a92b-a029a0c6d842",
   "metadata": {},
   "outputs": [
    {
     "name": "stdout",
     "output_type": "stream",
     "text": [
      "Grade B\n"
     ]
    }
   ],
   "source": [
    "score = 80\n",
    "if score >90:\n",
    "    print(\"Grade A\")\n",
    "elif 80<=score<90:\n",
    "    print(\"Grade B\")\n",
    "elif 70<=score<80:\n",
    "    print(\"Grade c\")\n",
    "elif 60<=score<70:\n",
    "    print(\"Grade d\")\n",
    "else:\n",
    "    print(\"Repeat the class\")"
   ]
  },
  {
   "cell_type": "raw",
   "id": "2143ce2f-5810-468f-833c-8a6af984e385",
   "metadata": {},
   "source": [
    "there is so many predefined keywords in which some are explained here by me.."
   ]
  },
  {
   "cell_type": "code",
   "execution_count": null,
   "id": "a439ca2f-abcf-49c6-b20d-e4ae7c97fa38",
   "metadata": {},
   "outputs": [],
   "source": []
  },
  {
   "cell_type": "markdown",
   "id": "62e47096-7d01-48e2-9720-acf609c76b79",
   "metadata": {},
   "source": [
    "### Question (3) Compare and contrast mutable and immutable objects in python with examples."
   ]
  },
  {
   "cell_type": "raw",
   "id": "dc63adf3-bc0b-47ec-a8a3-5db511bf7bcd",
   "metadata": {},
   "source": [
    "Ans = A data type is mutable if its value can be changed or modified after the data type has been created\n",
    "Concept of mutability: \n",
    "As the name suggest mutability is if you can edit something if you  want change  \"data analyst\" to \"data science\" ...\n",
    "and object/container whose state or value can be changed after they are created are called as mutable.."
   ]
  },
  {
   "cell_type": "code",
   "execution_count": 32,
   "id": "083cdd52-0dff-4368-9d99-508e310acb96",
   "metadata": {},
   "outputs": [
    {
     "data": {
      "text/plain": [
       "6"
      ]
     },
     "execution_count": 32,
     "metadata": {},
     "output_type": "execute_result"
    }
   ],
   "source": [
    "### in the memory , a memory block is create with refrence name a and value of 6...\n",
    "a = 6\n",
    "a"
   ]
  },
  {
   "cell_type": "markdown",
   "id": "3d96e88c-24e6-4b3f-ae46-fc5774aaaad0",
   "metadata": {},
   "source": [
    "### example of mutable"
   ]
  },
  {
   "cell_type": "code",
   "execution_count": 44,
   "id": "fb33518c-bcbc-4d3b-ac3d-f1c8535e4e79",
   "metadata": {},
   "outputs": [],
   "source": [
    "### if we are access to container or memory block to >> left to right using 1,2,3,4,5..>>\n",
    "## access to right to left using this -1,-2,-3,-4,-5....\n",
    "a = \"pwskills\""
   ]
  },
  {
   "cell_type": "code",
   "execution_count": 41,
   "id": "3040eb50-9ef3-471d-969f-46e551c48400",
   "metadata": {},
   "outputs": [
    {
     "data": {
      "text/plain": [
       "'s'"
      ]
     },
     "execution_count": 41,
     "metadata": {},
     "output_type": "execute_result"
    }
   ],
   "source": [
    "a[2]"
   ]
  },
  {
   "cell_type": "code",
   "execution_count": 42,
   "id": "5a8d9056-abc4-4a04-a14a-4f4628754cd6",
   "metadata": {},
   "outputs": [
    {
     "data": {
      "text/plain": [
       "'p'"
      ]
     },
     "execution_count": 42,
     "metadata": {},
     "output_type": "execute_result"
    }
   ],
   "source": [
    "a[0]"
   ]
  },
  {
   "cell_type": "code",
   "execution_count": 43,
   "id": "58c49e6e-3e01-4d97-b270-1ad038ea7c0d",
   "metadata": {},
   "outputs": [
    {
     "data": {
      "text/plain": [
       "'l'"
      ]
     },
     "execution_count": 43,
     "metadata": {},
     "output_type": "execute_result"
    }
   ],
   "source": [
    "a[-2]"
   ]
  },
  {
   "cell_type": "code",
   "execution_count": 45,
   "id": "b36b0e09-40b7-4358-a173-b879851ce8c5",
   "metadata": {},
   "outputs": [
    {
     "data": {
      "text/plain": [
       "'i'"
      ]
     },
     "execution_count": 45,
     "metadata": {},
     "output_type": "execute_result"
    }
   ],
   "source": [
    "a[-4]"
   ]
  },
  {
   "cell_type": "code",
   "execution_count": 46,
   "id": "65632b14-e312-40c8-a605-79549c074f99",
   "metadata": {},
   "outputs": [
    {
     "data": {
      "text/plain": [
       "'pwskills'"
      ]
     },
     "execution_count": 46,
     "metadata": {},
     "output_type": "execute_result"
    }
   ],
   "source": [
    "### another type of data container...\n",
    "list_count = [ \"pwskills\" , 123 ,12.5 , True , 3+5j ]\n",
    "list_count[0]"
   ]
  },
  {
   "cell_type": "code",
   "execution_count": 47,
   "id": "44b8616b-033d-4f5a-a10b-859a558fe72d",
   "metadata": {},
   "outputs": [
    {
     "data": {
      "text/plain": [
       "True"
      ]
     },
     "execution_count": 47,
     "metadata": {},
     "output_type": "execute_result"
    }
   ],
   "source": [
    "list_count[-2]"
   ]
  },
  {
   "cell_type": "code",
   "execution_count": 48,
   "id": "0ec93cb3-84e3-4af2-974d-11c6903d3d15",
   "metadata": {},
   "outputs": [
    {
     "data": {
      "text/plain": [
       "complex"
      ]
     },
     "execution_count": 48,
     "metadata": {},
     "output_type": "execute_result"
    }
   ],
   "source": [
    "type(list_count[-1])"
   ]
  },
  {
   "cell_type": "code",
   "execution_count": 49,
   "id": "23518167-6f36-4c1c-aa87-a77985a870f3",
   "metadata": {},
   "outputs": [
    {
     "data": {
      "text/plain": [
       "['pwskills', 123, 12.5, True, (3+5j)]"
      ]
     },
     "execution_count": 49,
     "metadata": {},
     "output_type": "execute_result"
    }
   ],
   "source": [
    "list_count"
   ]
  },
  {
   "cell_type": "code",
   "execution_count": 52,
   "id": "1c70ab45-100e-43c3-9437-add768d90618",
   "metadata": {},
   "outputs": [],
   "source": [
    "##mutabilty can be change something if you want to change pwskills to skills...\n",
    "list_count[0]=\"skills\""
   ]
  },
  {
   "cell_type": "code",
   "execution_count": 53,
   "id": "185d8cfc-0bb7-42e9-8f8a-3395bb4b83ba",
   "metadata": {},
   "outputs": [
    {
     "data": {
      "text/plain": [
       "['skills', 123, 12.5, True, (3+5j)]"
      ]
     },
     "execution_count": 53,
     "metadata": {},
     "output_type": "execute_result"
    }
   ],
   "source": [
    "list_count"
   ]
  },
  {
   "cell_type": "markdown",
   "id": "c5b6f6af-17cb-492e-a5e1-81a6389b811b",
   "metadata": {},
   "source": [
    "### Immutability"
   ]
  },
  {
   "cell_type": "raw",
   "id": "365289e4-d3dd-4892-b95e-4256a441a4dd",
   "metadata": {},
   "source": [
    "Object/container whose state or value can not be changed after they are created are called as mutable object are \n",
    "container list is a type of mutable object/support item assignment.\n",
    "if its value can not be changed after it has been created are called immutable...\n"
   ]
  },
  {
   "cell_type": "code",
   "execution_count": 54,
   "id": "50a3a2eb-a0b0-49cb-ae5d-f1f6628320d3",
   "metadata": {},
   "outputs": [],
   "source": [
    "### example\n",
    "a = \"pwskills\"\n"
   ]
  },
  {
   "cell_type": "code",
   "execution_count": 55,
   "id": "11f5a320-2bfc-493d-b35e-96b6f74e0640",
   "metadata": {},
   "outputs": [
    {
     "data": {
      "text/plain": [
       "'w'"
      ]
     },
     "execution_count": 55,
     "metadata": {},
     "output_type": "execute_result"
    }
   ],
   "source": [
    "a[1]"
   ]
  },
  {
   "cell_type": "code",
   "execution_count": 56,
   "id": "076fdf49-5c1e-4f14-9e63-990cc8cc4df9",
   "metadata": {},
   "outputs": [
    {
     "data": {
      "text/plain": [
       "'p'"
      ]
     },
     "execution_count": 56,
     "metadata": {},
     "output_type": "execute_result"
    }
   ],
   "source": [
    "a[0]"
   ]
  },
  {
   "cell_type": "code",
   "execution_count": 57,
   "id": "7c60608e-9657-43df-8f4c-6c94c676bbbf",
   "metadata": {},
   "outputs": [
    {
     "data": {
      "text/plain": [
       "'l'"
      ]
     },
     "execution_count": 57,
     "metadata": {},
     "output_type": "execute_result"
    }
   ],
   "source": [
    "a[-2]"
   ]
  },
  {
   "cell_type": "code",
   "execution_count": 58,
   "id": "a5e0702f-464f-4072-8221-9d878dba82e1",
   "metadata": {},
   "outputs": [
    {
     "ename": "TypeError",
     "evalue": "'str' object does not support item assignment",
     "output_type": "error",
     "traceback": [
      "\u001b[0;31m---------------------------------------------------------------------------\u001b[0m",
      "\u001b[0;31mTypeError\u001b[0m                                 Traceback (most recent call last)",
      "Cell \u001b[0;32mIn[58], line 1\u001b[0m\n\u001b[0;32m----> 1\u001b[0m \u001b[43ma\u001b[49m\u001b[43m[\u001b[49m\u001b[38;5;241;43m0\u001b[39;49m\u001b[43m]\u001b[49m\u001b[38;5;241m=\u001b[39m\u001b[38;5;124m\"\u001b[39m\u001b[38;5;124md\u001b[39m\u001b[38;5;124m\"\u001b[39m\n",
      "\u001b[0;31mTypeError\u001b[0m: 'str' object does not support item assignment"
     ]
    }
   ],
   "source": [
    "##string is a type of immutability/object doesn't support item assignment.\n",
    "a[0]=\"d\""
   ]
  },
  {
   "cell_type": "code",
   "execution_count": null,
   "id": "aa4206d6-9b5a-48f5-b570-c25023eb78b3",
   "metadata": {},
   "outputs": [],
   "source": []
  },
  {
   "cell_type": "markdown",
   "id": "5ca0f87d-67e9-403c-ad82-497655cd9aaa",
   "metadata": {},
   "source": [
    "### Question (4) Discuss the different type of operators in python and provide examples of how they are used.."
   ]
  },
  {
   "cell_type": "raw",
   "id": "50bebcb9-5da7-4852-9662-e8d9d5311696",
   "metadata": {},
   "source": [
    "Ans = Operators are special symbols or keywords that are used to carry out specific actions on number or variables\n",
    "in python expression.\n",
    "You can combine objects and operators to biuld expressions that a perform actual computation and operators are the \n",
    "building block of expressions which you can use manipulate your data. And python operators are special keywords symbols\n",
    "that are used to perform operators on value or variable..."
   ]
  },
  {
   "cell_type": "raw",
   "id": "3930fb6d-ee79-43a2-bbe3-025d6aff8ec8",
   "metadata": {},
   "source": [
    "Python language are support various type of operators\n",
    "\n",
    "*Arithmatic operators\n",
    "*Comparison operators\n",
    "*Logical operators\n",
    "*Bit-wise operators\n",
    "*Assignment operators\n",
    "*Membership operators\n",
    "*Identity operators"
   ]
  },
  {
   "cell_type": "markdown",
   "id": "882f04dc-50b5-4da9-9732-7abac082605b",
   "metadata": {},
   "source": [
    "### Arithmatic operators"
   ]
  },
  {
   "cell_type": "raw",
   "id": "43347565-b5bc-48f8-8c27-94be4e23c814",
   "metadata": {},
   "source": [
    "These operators allow you to perform mathmatical operations numeric data type such as integer and float numbers and \n",
    "supported arithmatic operators in boolean expression consist of the prefix and binary (+) and (-) symbols..\n",
    "Type of arithmatic operator =\n",
    "*Addition (+)\n",
    "*Subtraction (-)\n",
    "*Multiplication (*)\n",
    "*Division (/)\n",
    "*Modulus (%)\n",
    "*Exponentiation (**)\n",
    "*Floor (//)"
   ]
  },
  {
   "cell_type": "code",
   "execution_count": 3,
   "id": "2efed08e-0bc8-4e23-aef8-1489f1e884d9",
   "metadata": {},
   "outputs": [
    {
     "data": {
      "text/plain": [
       "7"
      ]
     },
     "execution_count": 3,
     "metadata": {},
     "output_type": "execute_result"
    }
   ],
   "source": [
    "### Example of arithmatic operators....\n",
    "## Addition\n",
    "a = 2\n",
    "b = 5\n",
    "a+b "
   ]
  },
  {
   "cell_type": "code",
   "execution_count": 4,
   "id": "f9e595a7-3c1b-4b84-bc15-55ebcdeaa8cb",
   "metadata": {},
   "outputs": [
    {
     "data": {
      "text/plain": [
       "2"
      ]
     },
     "execution_count": 4,
     "metadata": {},
     "output_type": "execute_result"
    }
   ],
   "source": [
    "## Subtraction\n",
    "a = 5\n",
    "b = 3\n",
    "a-b "
   ]
  },
  {
   "cell_type": "code",
   "execution_count": 5,
   "id": "0615860c-b589-4838-973e-d83440428188",
   "metadata": {},
   "outputs": [
    {
     "data": {
      "text/plain": [
       "50"
      ]
     },
     "execution_count": 5,
     "metadata": {},
     "output_type": "execute_result"
    }
   ],
   "source": [
    "## Multiplication\n",
    "a = 10\n",
    "b = 5\n",
    "a*b"
   ]
  },
  {
   "cell_type": "code",
   "execution_count": 6,
   "id": "7bf42d1c-cff1-4783-b9ca-c0d5715dd076",
   "metadata": {},
   "outputs": [
    {
     "data": {
      "text/plain": [
       "4.0"
      ]
     },
     "execution_count": 6,
     "metadata": {},
     "output_type": "execute_result"
    }
   ],
   "source": [
    "## Division\n",
    "a = 20\n",
    "b = 5\n",
    "a/b"
   ]
  },
  {
   "cell_type": "code",
   "execution_count": 7,
   "id": "ebd8b653-42fc-46ea-8f7a-008ae66cd51c",
   "metadata": {},
   "outputs": [
    {
     "data": {
      "text/plain": [
       "1"
      ]
     },
     "execution_count": 7,
     "metadata": {},
     "output_type": "execute_result"
    }
   ],
   "source": [
    "## Modulus operator\n",
    "21 % 4"
   ]
  },
  {
   "cell_type": "code",
   "execution_count": 12,
   "id": "06dc4aa7-792b-44e9-a653-a6a7444dd849",
   "metadata": {},
   "outputs": [
    {
     "data": {
      "text/plain": [
       "7"
      ]
     },
     "execution_count": 12,
     "metadata": {},
     "output_type": "execute_result"
    }
   ],
   "source": [
    "25 % 9"
   ]
  },
  {
   "cell_type": "code",
   "execution_count": 13,
   "id": "bcb54e72-03a3-46ab-9068-82becab73797",
   "metadata": {},
   "outputs": [
    {
     "data": {
      "text/plain": [
       "32"
      ]
     },
     "execution_count": 13,
     "metadata": {},
     "output_type": "execute_result"
    }
   ],
   "source": [
    "## Exponentiation operator\n",
    "## 2 power of 5\n",
    "2 ** 5"
   ]
  },
  {
   "cell_type": "code",
   "execution_count": 14,
   "id": "997832c5-1410-4d6d-84ed-6a8c90d59c62",
   "metadata": {},
   "outputs": [
    {
     "data": {
      "text/plain": [
       "16"
      ]
     },
     "execution_count": 14,
     "metadata": {},
     "output_type": "execute_result"
    }
   ],
   "source": [
    "2 ** 4"
   ]
  },
  {
   "cell_type": "code",
   "execution_count": 17,
   "id": "96e644d0-33b5-4382-b4cf-645e12f024e8",
   "metadata": {},
   "outputs": [
    {
     "data": {
      "text/plain": [
       "4"
      ]
     },
     "execution_count": 17,
     "metadata": {},
     "output_type": "execute_result"
    }
   ],
   "source": [
    "## Floor opearator\n",
    "20 // 5"
   ]
  },
  {
   "cell_type": "code",
   "execution_count": 18,
   "id": "580fd8f2-40b4-45b5-a57a-7889d9f49340",
   "metadata": {},
   "outputs": [
    {
     "data": {
      "text/plain": [
       "5"
      ]
     },
     "execution_count": 18,
     "metadata": {},
     "output_type": "execute_result"
    }
   ],
   "source": [
    "20 // 4"
   ]
  },
  {
   "cell_type": "markdown",
   "id": "b62b7ca5-75e8-4841-9d3f-79c99f332b54",
   "metadata": {},
   "source": [
    "### Comparison operators"
   ]
  },
  {
   "cell_type": "raw",
   "id": "99b10c1c-0580-4ab2-9740-bb17e78290a2",
   "metadata": {},
   "source": [
    "Comparison operator are compare to two value and output is given by boolean value...\n",
    "Type of comparison operators =\n",
    "*Equal to (=)\n",
    "*Greater than (>)\n",
    "*Less than (<)\n",
    "*Greater than or equals to (>=)\n",
    "*Less than or equals to (<=)"
   ]
  },
  {
   "cell_type": "code",
   "execution_count": 19,
   "id": "f57c42aa-a018-4c2a-8478-85a68347a2ff",
   "metadata": {},
   "outputs": [
    {
     "data": {
      "text/plain": [
       "True"
      ]
     },
     "execution_count": 19,
     "metadata": {},
     "output_type": "execute_result"
    }
   ],
   "source": [
    "## Equals to \n",
    "## Example\n",
    "2 == 2"
   ]
  },
  {
   "cell_type": "code",
   "execution_count": 20,
   "id": "e1357aea-d69c-413b-bf59-7a152401e6f1",
   "metadata": {},
   "outputs": [
    {
     "data": {
      "text/plain": [
       "False"
      ]
     },
     "execution_count": 20,
     "metadata": {},
     "output_type": "execute_result"
    }
   ],
   "source": [
    "2 == 5"
   ]
  },
  {
   "cell_type": "code",
   "execution_count": 21,
   "id": "c2c5d2e5-c9f9-4a2c-bd8c-c40f136a215b",
   "metadata": {},
   "outputs": [
    {
     "data": {
      "text/plain": [
       "True"
      ]
     },
     "execution_count": 21,
     "metadata": {},
     "output_type": "execute_result"
    }
   ],
   "source": [
    "## Not equals to\n",
    "## Example\n",
    "2 != 5"
   ]
  },
  {
   "cell_type": "code",
   "execution_count": 23,
   "id": "b8d8aedf-5144-4bbb-853d-f118311a3633",
   "metadata": {},
   "outputs": [
    {
     "data": {
      "text/plain": [
       "False"
      ]
     },
     "execution_count": 23,
     "metadata": {},
     "output_type": "execute_result"
    }
   ],
   "source": [
    "2 != 2"
   ]
  },
  {
   "cell_type": "code",
   "execution_count": 27,
   "id": "85b86e7b-e3cf-4fe7-8a2a-ad8a42d34380",
   "metadata": {},
   "outputs": [
    {
     "data": {
      "text/plain": [
       "True"
      ]
     },
     "execution_count": 27,
     "metadata": {},
     "output_type": "execute_result"
    }
   ],
   "source": [
    "## Greater than..\n",
    "## Example\n",
    "a = 5 \n",
    "b = 4\n",
    "a > b"
   ]
  },
  {
   "cell_type": "code",
   "execution_count": 29,
   "id": "424dfa5b-ec6e-4315-a0dc-5c0db26f3718",
   "metadata": {},
   "outputs": [
    {
     "data": {
      "text/plain": [
       "False"
      ]
     },
     "execution_count": 29,
     "metadata": {},
     "output_type": "execute_result"
    }
   ],
   "source": [
    "25 > 30"
   ]
  },
  {
   "cell_type": "code",
   "execution_count": 30,
   "id": "8850090f-e9b9-43c2-89f5-3e39dc3a670d",
   "metadata": {},
   "outputs": [
    {
     "data": {
      "text/plain": [
       "False"
      ]
     },
     "execution_count": 30,
     "metadata": {},
     "output_type": "execute_result"
    }
   ],
   "source": [
    "## less than \n",
    "## Example\n",
    "a = 10\n",
    "b = 20\n",
    "b < a"
   ]
  },
  {
   "cell_type": "code",
   "execution_count": 32,
   "id": "3f3cf5de-ebc0-4977-9b5e-f02c255c20e1",
   "metadata": {},
   "outputs": [
    {
     "data": {
      "text/plain": [
       "True"
      ]
     },
     "execution_count": 32,
     "metadata": {},
     "output_type": "execute_result"
    }
   ],
   "source": [
    "10 < 20"
   ]
  },
  {
   "cell_type": "code",
   "execution_count": 33,
   "id": "7e8f485c-264f-473f-80a6-34ea317b6fc5",
   "metadata": {},
   "outputs": [
    {
     "data": {
      "text/plain": [
       "False"
      ]
     },
     "execution_count": 33,
     "metadata": {},
     "output_type": "execute_result"
    }
   ],
   "source": [
    "## greater than or equals to\n",
    "## Example\n",
    "a = 25\n",
    "b = 35\n",
    "a >= b"
   ]
  },
  {
   "cell_type": "code",
   "execution_count": 34,
   "id": "ee3ef023-675c-49bc-8165-6e8aa320745c",
   "metadata": {},
   "outputs": [
    {
     "data": {
      "text/plain": [
       "True"
      ]
     },
     "execution_count": 34,
     "metadata": {},
     "output_type": "execute_result"
    }
   ],
   "source": [
    "35 >= 25"
   ]
  },
  {
   "cell_type": "code",
   "execution_count": 35,
   "id": "fae63727-ce0d-4e83-ba5b-310c5d6eb1b7",
   "metadata": {},
   "outputs": [
    {
     "data": {
      "text/plain": [
       "True"
      ]
     },
     "execution_count": 35,
     "metadata": {},
     "output_type": "execute_result"
    }
   ],
   "source": [
    "## less than or equals to\n",
    "## Example\n",
    "a = 45 \n",
    "b = 55\n",
    "a <= b"
   ]
  },
  {
   "cell_type": "code",
   "execution_count": 36,
   "id": "29084331-0d54-4d5c-aa04-d26c17987c43",
   "metadata": {},
   "outputs": [
    {
     "data": {
      "text/plain": [
       "False"
      ]
     },
     "execution_count": 36,
     "metadata": {},
     "output_type": "execute_result"
    }
   ],
   "source": [
    "55 <= 45"
   ]
  },
  {
   "cell_type": "markdown",
   "id": "e4a8c6b3-a15a-415d-97c2-1f6da031cfc6",
   "metadata": {},
   "source": [
    "### Logical operators"
   ]
  },
  {
   "cell_type": "raw",
   "id": "a61ab01c-bd1f-49b0-b5c4-0ff3ec77aed9",
   "metadata": {},
   "source": [
    "Logical operators are used to combine multiple conditions together execute as a single boolean expression..\n",
    "These are three type of logical operators in python =\n",
    "*AND\n",
    "*OR\n",
    "*NOT"
   ]
  },
  {
   "cell_type": "code",
   "execution_count": 37,
   "id": "dba28ebd-bcb5-4d61-81e6-9e35fc2d7d24",
   "metadata": {},
   "outputs": [],
   "source": [
    "# AND Operator\n",
    "#x and y (this return TRUE if both x and y are true)"
   ]
  },
  {
   "cell_type": "code",
   "execution_count": 38,
   "id": "b9460642-1d4d-489c-9c79-8214cc219f61",
   "metadata": {},
   "outputs": [
    {
     "data": {
      "text/plain": [
       "False"
      ]
     },
     "execution_count": 38,
     "metadata": {},
     "output_type": "execute_result"
    }
   ],
   "source": [
    "## Example\n",
    "True and False"
   ]
  },
  {
   "cell_type": "code",
   "execution_count": 39,
   "id": "c8b9927c-d9a9-4b60-863d-34cbf7a50cda",
   "metadata": {},
   "outputs": [
    {
     "data": {
      "text/plain": [
       "False"
      ]
     },
     "execution_count": 39,
     "metadata": {},
     "output_type": "execute_result"
    }
   ],
   "source": [
    "False and True"
   ]
  },
  {
   "cell_type": "code",
   "execution_count": 41,
   "id": "c4390e4a-a5fe-47c1-926a-bfd95b09c698",
   "metadata": {},
   "outputs": [
    {
     "data": {
      "text/plain": [
       "False"
      ]
     },
     "execution_count": 41,
     "metadata": {},
     "output_type": "execute_result"
    }
   ],
   "source": [
    "False and False"
   ]
  },
  {
   "cell_type": "code",
   "execution_count": 42,
   "id": "c3891d09-514c-449e-b1db-8c98754125e5",
   "metadata": {},
   "outputs": [
    {
     "data": {
      "text/plain": [
       "True"
      ]
     },
     "execution_count": 42,
     "metadata": {},
     "output_type": "execute_result"
    }
   ],
   "source": [
    "True and True"
   ]
  },
  {
   "cell_type": "code",
   "execution_count": 43,
   "id": "0e045f0a-cdd8-4b18-a534-d196e62dd601",
   "metadata": {},
   "outputs": [],
   "source": [
    "## OR Operator\n",
    "## x and y ( this return TRUE if either x and y are true).."
   ]
  },
  {
   "cell_type": "code",
   "execution_count": 44,
   "id": "b0c33988-a865-48c6-a9b4-4e5013ea16ef",
   "metadata": {},
   "outputs": [
    {
     "data": {
      "text/plain": [
       "True"
      ]
     },
     "execution_count": 44,
     "metadata": {},
     "output_type": "execute_result"
    }
   ],
   "source": [
    "##Example\n",
    "True or False"
   ]
  },
  {
   "cell_type": "code",
   "execution_count": 45,
   "id": "6fbcaa39-c28b-4823-b182-780a39a326cc",
   "metadata": {},
   "outputs": [
    {
     "data": {
      "text/plain": [
       "True"
      ]
     },
     "execution_count": 45,
     "metadata": {},
     "output_type": "execute_result"
    }
   ],
   "source": [
    "False or True"
   ]
  },
  {
   "cell_type": "code",
   "execution_count": 47,
   "id": "11fdb5c9-8a85-4239-979d-614d959a0b35",
   "metadata": {},
   "outputs": [
    {
     "data": {
      "text/plain": [
       "True"
      ]
     },
     "execution_count": 47,
     "metadata": {},
     "output_type": "execute_result"
    }
   ],
   "source": [
    "True or True"
   ]
  },
  {
   "cell_type": "code",
   "execution_count": 48,
   "id": "8387404f-fc5b-47a5-ba4f-dc1fab5255bb",
   "metadata": {},
   "outputs": [
    {
     "data": {
      "text/plain": [
       "False"
      ]
     },
     "execution_count": 48,
     "metadata": {},
     "output_type": "execute_result"
    }
   ],
   "source": [
    "False or False"
   ]
  },
  {
   "cell_type": "code",
   "execution_count": 49,
   "id": "cb45f7de-a779-4d19-81af-a608a2003015",
   "metadata": {},
   "outputs": [],
   "source": [
    "## NOT Operator...\n",
    "## Reverses a result so if something is TRUE not turn into FALSE..."
   ]
  },
  {
   "cell_type": "code",
   "execution_count": 50,
   "id": "0cdb4631-aedf-4012-95b4-ae2a3dd8cb79",
   "metadata": {},
   "outputs": [
    {
     "data": {
      "text/plain": [
       "False"
      ]
     },
     "execution_count": 50,
     "metadata": {},
     "output_type": "execute_result"
    }
   ],
   "source": [
    "## Example\n",
    "not True"
   ]
  },
  {
   "cell_type": "code",
   "execution_count": 51,
   "id": "9089f0d4-f86e-4182-ac2d-6a2ce8228c5a",
   "metadata": {},
   "outputs": [
    {
     "data": {
      "text/plain": [
       "True"
      ]
     },
     "execution_count": 51,
     "metadata": {},
     "output_type": "execute_result"
    }
   ],
   "source": [
    "not False"
   ]
  },
  {
   "cell_type": "markdown",
   "id": "5b8b1800-5e4b-4ebe-b404-ca29bdde02be",
   "metadata": {},
   "source": [
    "### Bitwise Operators"
   ]
  },
  {
   "cell_type": "raw",
   "id": "3a70da32-8607-4b8c-89c1-7d242713448c",
   "metadata": {},
   "source": [
    "Bitwise operator are used to perform bitwise calculation on integers and integer are first converted into binary format\n",
    "and than operation by performed bit by bit and operation at bit level , manipulating individulas bits with in integer.\n",
    "Types of bitwise operator =\n",
    "*Bitwise AND (&)\n",
    "*Bitwise OR (|)\n",
    "*Bitwise XOR (^)\n",
    "*Bitwise NOT (~)\n",
    "*Left shift operator (<<)\n",
    "*Right shift operator ( >>)"
   ]
  },
  {
   "cell_type": "code",
   "execution_count": 52,
   "id": "90b6535b-703b-4895-bf8a-1491bd3e9f93",
   "metadata": {},
   "outputs": [
    {
     "data": {
      "text/plain": [
       "4"
      ]
     },
     "execution_count": 52,
     "metadata": {},
     "output_type": "execute_result"
    }
   ],
   "source": [
    "## Bitwise AND(&)\n",
    "## Example\n",
    "28 & 5"
   ]
  },
  {
   "cell_type": "code",
   "execution_count": 53,
   "id": "3753603d-aa9c-4370-b542-bb31b3303c3c",
   "metadata": {},
   "outputs": [
    {
     "data": {
      "text/plain": [
       "'0b11100'"
      ]
     },
     "execution_count": 53,
     "metadata": {},
     "output_type": "execute_result"
    }
   ],
   "source": [
    "bin(28)"
   ]
  },
  {
   "cell_type": "code",
   "execution_count": 54,
   "id": "3bb10f7a-0b1f-4a92-a357-53abc8b4ebc9",
   "metadata": {},
   "outputs": [
    {
     "data": {
      "text/plain": [
       "'0b101'"
      ]
     },
     "execution_count": 54,
     "metadata": {},
     "output_type": "execute_result"
    }
   ],
   "source": [
    "bin(5)"
   ]
  },
  {
   "cell_type": "code",
   "execution_count": 55,
   "id": "7ac08ace-8697-4a7e-a600-0be6499cd017",
   "metadata": {},
   "outputs": [
    {
     "data": {
      "text/plain": [
       "'0b100'"
      ]
     },
     "execution_count": 55,
     "metadata": {},
     "output_type": "execute_result"
    }
   ],
   "source": [
    "bin(4) ##if we calculate the bin of 28 and 5 than result is 4 because (this return is true if both x and y are true..)"
   ]
  },
  {
   "cell_type": "code",
   "execution_count": 56,
   "id": "8bdff4c4-a292-42f1-9734-3db63c66522c",
   "metadata": {},
   "outputs": [
    {
     "data": {
      "text/plain": [
       "31"
      ]
     },
     "execution_count": 56,
     "metadata": {},
     "output_type": "execute_result"
    }
   ],
   "source": [
    "## Bitwise OR Operator\n",
    "## Example\n",
    "30 | 5"
   ]
  },
  {
   "cell_type": "code",
   "execution_count": 57,
   "id": "0d910092-24b3-4306-9be3-2efbd7de69ee",
   "metadata": {},
   "outputs": [
    {
     "data": {
      "text/plain": [
       "'0b11110'"
      ]
     },
     "execution_count": 57,
     "metadata": {},
     "output_type": "execute_result"
    }
   ],
   "source": [
    "bin(30)"
   ]
  },
  {
   "cell_type": "code",
   "execution_count": 58,
   "id": "ad1601f1-bafa-43bc-8bef-d19fcd8ddcf8",
   "metadata": {},
   "outputs": [
    {
     "data": {
      "text/plain": [
       "'0b101'"
      ]
     },
     "execution_count": 58,
     "metadata": {},
     "output_type": "execute_result"
    }
   ],
   "source": [
    "bin(5)"
   ]
  },
  {
   "cell_type": "code",
   "execution_count": 59,
   "id": "2c22e269-5336-4e93-92af-840742b4cab8",
   "metadata": {},
   "outputs": [
    {
     "data": {
      "text/plain": [
       "'0b11111'"
      ]
     },
     "execution_count": 59,
     "metadata": {},
     "output_type": "execute_result"
    }
   ],
   "source": [
    "bin(31)##if we calculate the bin of 30 OR 5 than result is 4 because (this return is true if either x and y are true..)"
   ]
  },
  {
   "cell_type": "code",
   "execution_count": null,
   "id": "9766e1f1-95e4-4145-aa9f-717306782c92",
   "metadata": {},
   "outputs": [],
   "source": [
    "## Bitwise XOR Operators (^) ...\n"
   ]
  },
  {
   "cell_type": "code",
   "execution_count": 60,
   "id": "3bafd959-790c-4a6f-b19d-46db3d21f748",
   "metadata": {},
   "outputs": [
    {
     "data": {
      "text/plain": [
       "6"
      ]
     },
     "execution_count": 60,
     "metadata": {},
     "output_type": "execute_result"
    }
   ],
   "source": [
    "## Example\n",
    "5 ^ 3"
   ]
  },
  {
   "cell_type": "code",
   "execution_count": 61,
   "id": "b1033bf6-99c8-496b-a303-2810a87a7fbd",
   "metadata": {},
   "outputs": [
    {
     "data": {
      "text/plain": [
       "'0b101'"
      ]
     },
     "execution_count": 61,
     "metadata": {},
     "output_type": "execute_result"
    }
   ],
   "source": [
    "bin(5)"
   ]
  },
  {
   "cell_type": "code",
   "execution_count": 62,
   "id": "2b345902-0ca4-497d-b445-13cfbd26dc1f",
   "metadata": {},
   "outputs": [
    {
     "data": {
      "text/plain": [
       "'0b11'"
      ]
     },
     "execution_count": 62,
     "metadata": {},
     "output_type": "execute_result"
    }
   ],
   "source": [
    "bin(3)"
   ]
  },
  {
   "cell_type": "code",
   "execution_count": 63,
   "id": "fe660400-0e42-45eb-a02c-f018475b9f37",
   "metadata": {},
   "outputs": [
    {
     "data": {
      "text/plain": [
       "'0b110'"
      ]
     },
     "execution_count": 63,
     "metadata": {},
     "output_type": "execute_result"
    }
   ],
   "source": [
    "bin(6)(XOR returns one when exactly one operaned is one..)"
   ]
  },
  {
   "cell_type": "code",
   "execution_count": 66,
   "id": "351ba606-4345-4822-9a5f-4e0d9716341a",
   "metadata": {},
   "outputs": [],
   "source": [
    "## Bitwise Not operator(~) \n",
    "## Negation"
   ]
  },
  {
   "cell_type": "code",
   "execution_count": 67,
   "id": "a5edf005-dc64-46e6-afe1-89b70348d0f7",
   "metadata": {},
   "outputs": [
    {
     "data": {
      "text/plain": [
       "-4"
      ]
     },
     "execution_count": 67,
     "metadata": {},
     "output_type": "execute_result"
    }
   ],
   "source": [
    "## Example\n",
    "~ 3"
   ]
  },
  {
   "cell_type": "code",
   "execution_count": 68,
   "id": "caad638f-3ca6-4046-b675-d166ae904b8a",
   "metadata": {},
   "outputs": [
    {
     "data": {
      "text/plain": [
       "-101"
      ]
     },
     "execution_count": 68,
     "metadata": {},
     "output_type": "execute_result"
    }
   ],
   "source": [
    "~100 ## flips the bits in the operand.."
   ]
  },
  {
   "cell_type": "code",
   "execution_count": 69,
   "id": "96486cea-fda3-45a4-a309-537769074bab",
   "metadata": {},
   "outputs": [],
   "source": [
    "## Bitwise ( LEFT SHIFT OPERATOR)\n"
   ]
  },
  {
   "cell_type": "code",
   "execution_count": 70,
   "id": "ae447904-39a1-458e-b6b3-46c5219c459c",
   "metadata": {},
   "outputs": [
    {
     "data": {
      "text/plain": [
       "896"
      ]
     },
     "execution_count": 70,
     "metadata": {},
     "output_type": "execute_result"
    }
   ],
   "source": [
    "## Example\n",
    "28 << 5"
   ]
  },
  {
   "cell_type": "code",
   "execution_count": 71,
   "id": "d534672c-2dd3-411d-b2c1-961e8fc7fdb4",
   "metadata": {},
   "outputs": [
    {
     "data": {
      "text/plain": [
       "'0b11100'"
      ]
     },
     "execution_count": 71,
     "metadata": {},
     "output_type": "execute_result"
    }
   ],
   "source": [
    "bin(28)"
   ]
  },
  {
   "cell_type": "code",
   "execution_count": 72,
   "id": "550b979a-b3b4-499d-8f8c-b63a1a546673",
   "metadata": {},
   "outputs": [
    {
     "data": {
      "text/plain": [
       "'0b1110000000'"
      ]
     },
     "execution_count": 72,
     "metadata": {},
     "output_type": "execute_result"
    }
   ],
   "source": [
    "bin(896) ## Left shift the bits to the left by a specified no of position filling 0 of the right.."
   ]
  },
  {
   "cell_type": "code",
   "execution_count": 73,
   "id": "c937300f-8bc4-43d0-a153-063f28972cda",
   "metadata": {},
   "outputs": [],
   "source": [
    "## Bitwise ( RIGHT SHIFT OPERATOR)"
   ]
  },
  {
   "cell_type": "code",
   "execution_count": 75,
   "id": "ee055543-7ce3-4ac8-9e49-34fbf9fc921d",
   "metadata": {},
   "outputs": [
    {
     "data": {
      "text/plain": [
       "7"
      ]
     },
     "execution_count": 75,
     "metadata": {},
     "output_type": "execute_result"
    }
   ],
   "source": [
    "## Example\n",
    "28 >> 2"
   ]
  },
  {
   "cell_type": "code",
   "execution_count": 76,
   "id": "f6e22711-012b-4f2f-9ad0-f94cdeaa77d8",
   "metadata": {},
   "outputs": [
    {
     "data": {
      "text/plain": [
       "'0b11100'"
      ]
     },
     "execution_count": 76,
     "metadata": {},
     "output_type": "execute_result"
    }
   ],
   "source": [
    "bin(28)"
   ]
  },
  {
   "cell_type": "code",
   "execution_count": 78,
   "id": "94470bb8-4c95-4360-a540-65a6437b3619",
   "metadata": {},
   "outputs": [
    {
     "data": {
      "text/plain": [
       "'0b111'"
      ]
     },
     "execution_count": 78,
     "metadata": {},
     "output_type": "execute_result"
    }
   ],
   "source": [
    "bin(7) ## Right shift operator remove the no of elements in the binary..."
   ]
  },
  {
   "cell_type": "markdown",
   "id": "f9f7720d-7eaa-46d8-9f95-33c3937338a5",
   "metadata": {},
   "source": [
    "### Assignment Operator"
   ]
  },
  {
   "cell_type": "raw",
   "id": "f2fb4575-f1e9-4490-96a5-4e4881c85d34",
   "metadata": {},
   "source": [
    "Assignment operator are most commonly used operator in python and it is assign a value to variable...\n",
    "Type of assignment operator =\n",
    "*Assignment operator\n",
    "*Addition assignment\n",
    "*Subtraction assignment\n",
    "*Multiplication assignment\n",
    "*Division assignment"
   ]
  },
  {
   "cell_type": "code",
   "execution_count": 93,
   "id": "51ae8988-531b-4bf8-a742-37d86c6737bb",
   "metadata": {},
   "outputs": [
    {
     "data": {
      "text/plain": [
       "20"
      ]
     },
     "execution_count": 93,
     "metadata": {},
     "output_type": "execute_result"
    }
   ],
   "source": [
    "##Example\n",
    "a = 10\n",
    "b = 10\n",
    "a+b ## assignment operator (assign a value to variable).."
   ]
  },
  {
   "cell_type": "code",
   "execution_count": 1,
   "id": "eb935a7a-7e27-4c7e-b376-6fd8455cdd07",
   "metadata": {},
   "outputs": [],
   "source": [
    "a =10\n",
    "a+=20##addition"
   ]
  },
  {
   "cell_type": "code",
   "execution_count": 2,
   "id": "552c3c2b-6899-482f-b877-de4b4385fb07",
   "metadata": {},
   "outputs": [
    {
     "data": {
      "text/plain": [
       "30"
      ]
     },
     "execution_count": 2,
     "metadata": {},
     "output_type": "execute_result"
    }
   ],
   "source": [
    "a"
   ]
  },
  {
   "cell_type": "code",
   "execution_count": 4,
   "id": "a6d297b7-c4f8-4bf3-9984-224f39f8e0fe",
   "metadata": {},
   "outputs": [],
   "source": [
    "c = 50\n",
    "c-=20 ## Subtraction"
   ]
  },
  {
   "cell_type": "code",
   "execution_count": 5,
   "id": "de46a6df-4996-456e-962c-caf4bd0967a8",
   "metadata": {},
   "outputs": [
    {
     "data": {
      "text/plain": [
       "30"
      ]
     },
     "execution_count": 5,
     "metadata": {},
     "output_type": "execute_result"
    }
   ],
   "source": [
    "c"
   ]
  },
  {
   "cell_type": "code",
   "execution_count": 6,
   "id": "3a7e5f81-8dbc-4564-bc4d-92f3826a2991",
   "metadata": {},
   "outputs": [],
   "source": [
    "d = 20\n",
    "d*=2 ## Multiplication"
   ]
  },
  {
   "cell_type": "code",
   "execution_count": 7,
   "id": "0eabb385-610d-4553-a76b-92a40bc781d4",
   "metadata": {},
   "outputs": [
    {
     "data": {
      "text/plain": [
       "40"
      ]
     },
     "execution_count": 7,
     "metadata": {},
     "output_type": "execute_result"
    }
   ],
   "source": [
    "d"
   ]
  },
  {
   "cell_type": "code",
   "execution_count": 8,
   "id": "34d833b6-6980-4404-90f3-cbe71d9ebfaa",
   "metadata": {},
   "outputs": [],
   "source": [
    "e = 50\n",
    "e/=5 ## Division"
   ]
  },
  {
   "cell_type": "code",
   "execution_count": 9,
   "id": "e114e8c7-8bd2-4067-9106-560e2b4353ee",
   "metadata": {},
   "outputs": [
    {
     "data": {
      "text/plain": [
       "10.0"
      ]
     },
     "execution_count": 9,
     "metadata": {},
     "output_type": "execute_result"
    }
   ],
   "source": [
    "e"
   ]
  },
  {
   "cell_type": "markdown",
   "id": "3e4b7a17-0591-40b6-8325-5095bbb582da",
   "metadata": {},
   "source": [
    "### Membership Operator"
   ]
  },
  {
   "cell_type": "raw",
   "id": "dcaed196-4a44-4bb0-875f-fe3270482b48",
   "metadata": {},
   "source": [
    "Membership operator a given value is a member of sequence such as string , list and they excute it give a boolean value form.\n",
    "They are two primary types \n",
    "(in) returns true if specified value is found with in a sequence.\n",
    "(not in) returns true if specified value is found not in a sequence."
   ]
  },
  {
   "cell_type": "code",
   "execution_count": 11,
   "id": "341a938c-2630-471e-9334-1b91d6a0550d",
   "metadata": {},
   "outputs": [],
   "source": [
    "##Example\n",
    "## in\n",
    "a = \"pwskills\""
   ]
  },
  {
   "cell_type": "code",
   "execution_count": 12,
   "id": "ea96e7ec-9e79-4069-bb46-f28373a419f2",
   "metadata": {},
   "outputs": [
    {
     "data": {
      "text/plain": [
       "'pwskills'"
      ]
     },
     "execution_count": 12,
     "metadata": {},
     "output_type": "execute_result"
    }
   ],
   "source": [
    "a"
   ]
  },
  {
   "cell_type": "code",
   "execution_count": 13,
   "id": "41e564b0-c321-43c3-9a10-62f9ba4de5c3",
   "metadata": {},
   "outputs": [
    {
     "data": {
      "text/plain": [
       "True"
      ]
     },
     "execution_count": 13,
     "metadata": {},
     "output_type": "execute_result"
    }
   ],
   "source": [
    "\"p\" in a"
   ]
  },
  {
   "cell_type": "code",
   "execution_count": 14,
   "id": "4142c7e3-1c5f-4600-8a97-cba1468e3005",
   "metadata": {},
   "outputs": [
    {
     "data": {
      "text/plain": [
       "True"
      ]
     },
     "execution_count": 14,
     "metadata": {},
     "output_type": "execute_result"
    }
   ],
   "source": [
    "\"s\" in a"
   ]
  },
  {
   "cell_type": "code",
   "execution_count": 15,
   "id": "248101bc-3af3-49a5-9a11-38f843cafc35",
   "metadata": {},
   "outputs": [
    {
     "data": {
      "text/plain": [
       "False"
      ]
     },
     "execution_count": 15,
     "metadata": {},
     "output_type": "execute_result"
    }
   ],
   "source": [
    "\"z\" in a"
   ]
  },
  {
   "cell_type": "code",
   "execution_count": 16,
   "id": "9179c79a-fad4-4648-a26f-1b26629815b0",
   "metadata": {},
   "outputs": [],
   "source": [
    "## list count \n",
    "list_count = [\"pw\" , \"skills\", \"data\", \"science\", 123 ]"
   ]
  },
  {
   "cell_type": "code",
   "execution_count": 17,
   "id": "57241d8c-8531-4bfc-a59a-366bd721bf0c",
   "metadata": {},
   "outputs": [
    {
     "data": {
      "text/plain": [
       "['pw', 'skills', 'data', 'science', 123]"
      ]
     },
     "execution_count": 17,
     "metadata": {},
     "output_type": "execute_result"
    }
   ],
   "source": [
    "list_count"
   ]
  },
  {
   "cell_type": "code",
   "execution_count": 18,
   "id": "f22d9ee6-6037-4df6-9938-b78baec8672f",
   "metadata": {},
   "outputs": [
    {
     "data": {
      "text/plain": [
       "True"
      ]
     },
     "execution_count": 18,
     "metadata": {},
     "output_type": "execute_result"
    }
   ],
   "source": [
    "123 in list_count"
   ]
  },
  {
   "cell_type": "code",
   "execution_count": 19,
   "id": "205167cf-8de5-4f3a-804c-f5ce515b300a",
   "metadata": {},
   "outputs": [
    {
     "data": {
      "text/plain": [
       "False"
      ]
     },
     "execution_count": 19,
     "metadata": {},
     "output_type": "execute_result"
    }
   ],
   "source": [
    "\"data analyst\" in list_count"
   ]
  },
  {
   "cell_type": "code",
   "execution_count": 20,
   "id": "c388bfc2-8377-4ee2-84d1-e01bccaf8754",
   "metadata": {},
   "outputs": [],
   "source": [
    "## NOT in"
   ]
  },
  {
   "cell_type": "code",
   "execution_count": 21,
   "id": "26a41b5a-708f-43b3-a32e-ab2649eceb84",
   "metadata": {},
   "outputs": [],
   "source": [
    "a = \"pwskills\""
   ]
  },
  {
   "cell_type": "code",
   "execution_count": 22,
   "id": "8a7e0aff-5394-424d-8de1-5af07bb89827",
   "metadata": {},
   "outputs": [
    {
     "data": {
      "text/plain": [
       "False"
      ]
     },
     "execution_count": 22,
     "metadata": {},
     "output_type": "execute_result"
    }
   ],
   "source": [
    "\"p\" not in a"
   ]
  },
  {
   "cell_type": "code",
   "execution_count": 23,
   "id": "2470736d-b621-4200-adcb-4a186e26d6f6",
   "metadata": {},
   "outputs": [
    {
     "data": {
      "text/plain": [
       "True"
      ]
     },
     "execution_count": 23,
     "metadata": {},
     "output_type": "execute_result"
    }
   ],
   "source": [
    "\"Z\" not in a"
   ]
  },
  {
   "cell_type": "code",
   "execution_count": 24,
   "id": "07efaadd-e500-40b5-8d0b-2fbd4eeaa80b",
   "metadata": {},
   "outputs": [],
   "source": [
    "list_count = [\"pw\" , \"skills\", \"data\", \"science\", 123 ]"
   ]
  },
  {
   "cell_type": "code",
   "execution_count": 25,
   "id": "2e350767-b7d2-428b-a699-3ee89b6aeb0f",
   "metadata": {},
   "outputs": [
    {
     "data": {
      "text/plain": [
       "False"
      ]
     },
     "execution_count": 25,
     "metadata": {},
     "output_type": "execute_result"
    }
   ],
   "source": [
    "\"skills\" not in list_count"
   ]
  },
  {
   "cell_type": "code",
   "execution_count": 26,
   "id": "960d781a-fb70-48bd-9646-78f9a2cfd979",
   "metadata": {},
   "outputs": [
    {
     "data": {
      "text/plain": [
       "True"
      ]
     },
     "execution_count": 26,
     "metadata": {},
     "output_type": "execute_result"
    }
   ],
   "source": [
    "2231 not in list_count"
   ]
  },
  {
   "cell_type": "markdown",
   "id": "4826b37e-2cc4-4823-8c2f-323198f890b5",
   "metadata": {},
   "source": [
    "### Identity Operator"
   ]
  },
  {
   "cell_type": "raw",
   "id": "76748887-1504-48b2-a16d-7b57d98f1c36",
   "metadata": {},
   "source": [
    "Identity operator is compare the location of two object and variable..\n",
    "They are two types operator =\n",
    "*is\n",
    "*is not"
   ]
  },
  {
   "cell_type": "code",
   "execution_count": 27,
   "id": "5882b0dc-ef83-4e54-926e-1b408f71433d",
   "metadata": {},
   "outputs": [
    {
     "data": {
      "text/plain": [
       "False"
      ]
     },
     "execution_count": 27,
     "metadata": {},
     "output_type": "execute_result"
    }
   ],
   "source": [
    "## Example\n",
    "a = 2\n",
    "b = 3\n",
    "a is b"
   ]
  },
  {
   "cell_type": "code",
   "execution_count": 28,
   "id": "7172941d-4376-4add-bdfd-d98ea887f25f",
   "metadata": {},
   "outputs": [
    {
     "data": {
      "text/plain": [
       "True"
      ]
     },
     "execution_count": 28,
     "metadata": {},
     "output_type": "execute_result"
    }
   ],
   "source": [
    "a is not b"
   ]
  },
  {
   "cell_type": "code",
   "execution_count": 29,
   "id": "1fb6bb0b-35ed-4a74-ae8c-48c882596d18",
   "metadata": {},
   "outputs": [
    {
     "data": {
      "text/plain": [
       "True"
      ]
     },
     "execution_count": 29,
     "metadata": {},
     "output_type": "execute_result"
    }
   ],
   "source": [
    "b = 26\n",
    "c = 26\n",
    "b is c"
   ]
  },
  {
   "cell_type": "code",
   "execution_count": 30,
   "id": "baa9c074-7f15-4675-8e8a-a2081d4d41f5",
   "metadata": {},
   "outputs": [
    {
     "data": {
      "text/plain": [
       "False"
      ]
     },
     "execution_count": 30,
     "metadata": {},
     "output_type": "execute_result"
    }
   ],
   "source": [
    "b is not c"
   ]
  },
  {
   "cell_type": "code",
   "execution_count": null,
   "id": "0859734a-5d4c-4153-81e2-5606bd48decd",
   "metadata": {},
   "outputs": [],
   "source": []
  },
  {
   "cell_type": "markdown",
   "id": "f31d3f89-6b6b-4128-9ac2-b70e2acb8801",
   "metadata": {},
   "source": [
    "### Question (5) Explain the concept of type casting in python with example.."
   ]
  },
  {
   "cell_type": "raw",
   "id": "856f6787-bc27-465f-83f8-a6589fc065d1",
   "metadata": {},
   "source": [
    "Ans = Type casting is the process of converting the value of a single data type such as an integer , float , boolean, \n",
    "strings into another data type and the type casting is the method to convert the python variable data type into a certain data\n",
    "type in order to perform the required operation by user..\n",
    "These are two type of type casting =\n",
    "*Implicit\n",
    "*Explicit"
   ]
  },
  {
   "cell_type": "markdown",
   "id": "a42ac07e-365e-423b-9bd9-0d9daef8d1d8",
   "metadata": {},
   "source": [
    "### Implicit"
   ]
  },
  {
   "cell_type": "code",
   "execution_count": 2,
   "id": "d65a5a82-d647-4c22-80ac-7d225e875ca2",
   "metadata": {},
   "outputs": [],
   "source": [
    "##implicit means to python are understand the data type.."
   ]
  },
  {
   "cell_type": "code",
   "execution_count": 3,
   "id": "ecdade24-aa68-4340-bc3a-5dfd64b05eee",
   "metadata": {},
   "outputs": [
    {
     "data": {
      "text/plain": [
       "int"
      ]
     },
     "execution_count": 3,
     "metadata": {},
     "output_type": "execute_result"
    }
   ],
   "source": [
    "#example\n",
    "a = 5\n",
    "type(a)"
   ]
  },
  {
   "cell_type": "code",
   "execution_count": 4,
   "id": "d7991abb-5120-4f6a-9d68-a99865cefcb6",
   "metadata": {},
   "outputs": [
    {
     "data": {
      "text/plain": [
       "float"
      ]
     },
     "execution_count": 4,
     "metadata": {},
     "output_type": "execute_result"
    }
   ],
   "source": [
    "b = 3.5\n",
    "type(b)"
   ]
  },
  {
   "cell_type": "markdown",
   "id": "e9ed4fa9-38c1-471f-9a4e-5677b8a432ab",
   "metadata": {},
   "source": [
    "### explicit"
   ]
  },
  {
   "cell_type": "code",
   "execution_count": 5,
   "id": "21396894-3f7e-41b1-9a53-8a28b1fc8277",
   "metadata": {},
   "outputs": [],
   "source": [
    "## if in this method python need user involvement to convert the variable data type into the required data type.."
   ]
  },
  {
   "cell_type": "code",
   "execution_count": 6,
   "id": "84914f8b-6844-4d6c-a2db-28a7d05732a6",
   "metadata": {},
   "outputs": [],
   "source": [
    "#example\n",
    "a = \"2\""
   ]
  },
  {
   "cell_type": "code",
   "execution_count": 7,
   "id": "ee5f4751-13b1-42cc-b171-8316589acbfc",
   "metadata": {},
   "outputs": [
    {
     "data": {
      "text/plain": [
       "str"
      ]
     },
     "execution_count": 7,
     "metadata": {},
     "output_type": "execute_result"
    }
   ],
   "source": [
    "type(a)"
   ]
  },
  {
   "cell_type": "code",
   "execution_count": 8,
   "id": "1641a3c8-f01a-4208-b673-45b8f760206b",
   "metadata": {},
   "outputs": [
    {
     "data": {
      "text/plain": [
       "2"
      ]
     },
     "execution_count": 8,
     "metadata": {},
     "output_type": "execute_result"
    }
   ],
   "source": [
    "int(a)"
   ]
  },
  {
   "cell_type": "code",
   "execution_count": 9,
   "id": "269b6041-e209-471d-a0a8-b763760e0ec1",
   "metadata": {},
   "outputs": [
    {
     "data": {
      "text/plain": [
       "2.0"
      ]
     },
     "execution_count": 9,
     "metadata": {},
     "output_type": "execute_result"
    }
   ],
   "source": [
    "float(a)"
   ]
  },
  {
   "cell_type": "code",
   "execution_count": 10,
   "id": "98bf1a9c-a1dc-4749-bdeb-795bb86e3915",
   "metadata": {},
   "outputs": [
    {
     "data": {
      "text/plain": [
       "True"
      ]
     },
     "execution_count": 10,
     "metadata": {},
     "output_type": "execute_result"
    }
   ],
   "source": [
    "bool(a)"
   ]
  },
  {
   "cell_type": "code",
   "execution_count": 11,
   "id": "710f6441-a6ce-486b-8e78-599849a9ae6b",
   "metadata": {},
   "outputs": [
    {
     "data": {
      "text/plain": [
       "'2'"
      ]
     },
     "execution_count": 11,
     "metadata": {},
     "output_type": "execute_result"
    }
   ],
   "source": [
    "str(a)"
   ]
  },
  {
   "cell_type": "markdown",
   "id": "146540d4-7167-4c97-be77-24674445b0e3",
   "metadata": {},
   "source": [
    "### Concatenate"
   ]
  },
  {
   "cell_type": "code",
   "execution_count": 13,
   "id": "1e9cbe56-1049-4f99-ab0d-792ee81c9b03",
   "metadata": {},
   "outputs": [
    {
     "ename": "TypeError",
     "evalue": "can only concatenate str (not \"int\") to str",
     "output_type": "error",
     "traceback": [
      "\u001b[0;31m---------------------------------------------------------------------------\u001b[0m",
      "\u001b[0;31mTypeError\u001b[0m                                 Traceback (most recent call last)",
      "Cell \u001b[0;32mIn[13], line 5\u001b[0m\n\u001b[1;32m      3\u001b[0m a \u001b[38;5;241m=\u001b[39m \u001b[38;5;124m\"\u001b[39m\u001b[38;5;124m2\u001b[39m\u001b[38;5;124m\"\u001b[39m\n\u001b[1;32m      4\u001b[0m b \u001b[38;5;241m=\u001b[39m \u001b[38;5;241m5\u001b[39m\n\u001b[0;32m----> 5\u001b[0m \u001b[43ma\u001b[49m\u001b[38;5;241;43m+\u001b[39;49m\u001b[43mb\u001b[49m\n",
      "\u001b[0;31mTypeError\u001b[0m: can only concatenate str (not \"int\") to str"
     ]
    }
   ],
   "source": [
    "## Type conversion the process of changeing the data type of value or object while excecuting computation using operator\n",
    "## they are can mismatch between data type.... \n",
    "a = \"2\"\n",
    "b = 5\n",
    "a+b"
   ]
  },
  {
   "cell_type": "code",
   "execution_count": 18,
   "id": "a1f68a4a-182c-430f-8fe0-df060cce9d94",
   "metadata": {},
   "outputs": [
    {
     "data": {
      "text/plain": [
       "64"
      ]
     },
     "execution_count": 18,
     "metadata": {},
     "output_type": "execute_result"
    }
   ],
   "source": [
    "## if this is right way to python are understand the data type...\n",
    "b = \"44\"\n",
    "c = 20\n",
    "int(b)+c"
   ]
  },
  {
   "cell_type": "markdown",
   "id": "112a1598-63dd-448b-8f4d-a69737ae8530",
   "metadata": {},
   "source": [
    "### String to integer"
   ]
  },
  {
   "cell_type": "code",
   "execution_count": 20,
   "id": "4e6b3cd5-2574-4e54-84b4-6833aef53f1d",
   "metadata": {},
   "outputs": [
    {
     "name": "stdout",
     "output_type": "stream",
     "text": [
      "<class 'str'>\n",
      "<class 'int'>\n"
     ]
    }
   ],
   "source": [
    "a = \"5\"\n",
    "print(type(a))\n",
    "print(type(int(a)))\n"
   ]
  },
  {
   "cell_type": "code",
   "execution_count": 22,
   "id": "8ec77dcf-deaa-46dc-9961-72986abeaf61",
   "metadata": {},
   "outputs": [
    {
     "data": {
      "text/plain": [
       "5"
      ]
     },
     "execution_count": 22,
     "metadata": {},
     "output_type": "execute_result"
    }
   ],
   "source": [
    "int(a)"
   ]
  },
  {
   "cell_type": "code",
   "execution_count": 23,
   "id": "e9912674-3715-4aa0-97f7-0cb7d051b091",
   "metadata": {},
   "outputs": [
    {
     "name": "stdout",
     "output_type": "stream",
     "text": [
      "<class 'str'>\n",
      "<class 'int'>\n"
     ]
    }
   ],
   "source": [
    "b = \"55\"\n",
    "print(type(a))\n",
    "print(type(int(a)))"
   ]
  },
  {
   "cell_type": "markdown",
   "id": "cf024b87-c7c5-452f-8225-f0fdff28327e",
   "metadata": {},
   "source": [
    "### Float to integer"
   ]
  },
  {
   "cell_type": "code",
   "execution_count": 24,
   "id": "e39811de-01bd-4526-a0da-0f48b3d14c04",
   "metadata": {},
   "outputs": [
    {
     "data": {
      "text/plain": [
       "5.5"
      ]
     },
     "execution_count": 24,
     "metadata": {},
     "output_type": "execute_result"
    }
   ],
   "source": [
    "a = 5.5 \n",
    "a"
   ]
  },
  {
   "cell_type": "code",
   "execution_count": 26,
   "id": "4cba3240-6094-4e4e-9d13-4c932710f0f6",
   "metadata": {},
   "outputs": [
    {
     "data": {
      "text/plain": [
       "float"
      ]
     },
     "execution_count": 26,
     "metadata": {},
     "output_type": "execute_result"
    }
   ],
   "source": [
    "type(a)"
   ]
  },
  {
   "cell_type": "code",
   "execution_count": 27,
   "id": "e7ca4452-276e-41ed-8da0-7e8cd3851e84",
   "metadata": {},
   "outputs": [
    {
     "data": {
      "text/plain": [
       "5"
      ]
     },
     "execution_count": 27,
     "metadata": {},
     "output_type": "execute_result"
    }
   ],
   "source": [
    "int(a)"
   ]
  },
  {
   "cell_type": "code",
   "execution_count": 28,
   "id": "c51e0cde-3658-4f7e-b331-9e69ba2b33b4",
   "metadata": {},
   "outputs": [
    {
     "data": {
      "text/plain": [
       "int"
      ]
     },
     "execution_count": 28,
     "metadata": {},
     "output_type": "execute_result"
    }
   ],
   "source": [
    "b = 8.6\n",
    "type(b)\n",
    "float_value = int(b)\n",
    "type(float_value)"
   ]
  },
  {
   "cell_type": "markdown",
   "id": "4fd1a1d4-a4da-4569-ba34-19b42b40311a",
   "metadata": {},
   "source": [
    "### Integer to float"
   ]
  },
  {
   "cell_type": "code",
   "execution_count": 30,
   "id": "564fd253-560b-4f92-ac18-633408f97310",
   "metadata": {},
   "outputs": [],
   "source": [
    "a = 45"
   ]
  },
  {
   "cell_type": "code",
   "execution_count": 31,
   "id": "ed6beac5-08db-4373-81f4-793318140119",
   "metadata": {},
   "outputs": [
    {
     "data": {
      "text/plain": [
       "45.0"
      ]
     },
     "execution_count": 31,
     "metadata": {},
     "output_type": "execute_result"
    }
   ],
   "source": [
    "float(a)"
   ]
  },
  {
   "cell_type": "code",
   "execution_count": 34,
   "id": "26b6f9b5-8ac2-4a91-8f91-04b144415d89",
   "metadata": {},
   "outputs": [
    {
     "data": {
      "text/plain": [
       "float"
      ]
     },
     "execution_count": 34,
     "metadata": {},
     "output_type": "execute_result"
    }
   ],
   "source": [
    "b= 65\n",
    "type(b)\n",
    "integer = float(b)\n",
    "type(integer)"
   ]
  },
  {
   "cell_type": "code",
   "execution_count": 33,
   "id": "416eb0e6-3c4c-4c42-af12-c3babfbfe9b8",
   "metadata": {},
   "outputs": [
    {
     "data": {
      "text/plain": [
       "65.0"
      ]
     },
     "execution_count": 33,
     "metadata": {},
     "output_type": "execute_result"
    }
   ],
   "source": [
    "float(b)"
   ]
  },
  {
   "cell_type": "markdown",
   "id": "fae27d84-d19f-405b-8c8e-150cc1ab8e39",
   "metadata": {},
   "source": [
    "### String to float"
   ]
  },
  {
   "cell_type": "code",
   "execution_count": 35,
   "id": "e7b3f608-e8c1-44cd-9bd4-7ffd8881342c",
   "metadata": {},
   "outputs": [],
   "source": [
    "a = \"5\""
   ]
  },
  {
   "cell_type": "code",
   "execution_count": 36,
   "id": "c0c9e458-5f93-4534-8450-9feaa0ef2b47",
   "metadata": {},
   "outputs": [
    {
     "data": {
      "text/plain": [
       "5.0"
      ]
     },
     "execution_count": 36,
     "metadata": {},
     "output_type": "execute_result"
    }
   ],
   "source": [
    "float(a)"
   ]
  },
  {
   "cell_type": "code",
   "execution_count": 39,
   "id": "a4dabed3-5a3c-4e3b-a2e2-587b237ade88",
   "metadata": {},
   "outputs": [
    {
     "data": {
      "text/plain": [
       "float"
      ]
     },
     "execution_count": 39,
     "metadata": {},
     "output_type": "execute_result"
    }
   ],
   "source": [
    "b =\"23\"\n",
    "type(b)\n",
    "string = float(b)\n",
    "type(string)"
   ]
  },
  {
   "cell_type": "code",
   "execution_count": 38,
   "id": "b461df47-7d74-4f70-8367-1b0cd5f3e541",
   "metadata": {},
   "outputs": [
    {
     "data": {
      "text/plain": [
       "23.0"
      ]
     },
     "execution_count": 38,
     "metadata": {},
     "output_type": "execute_result"
    }
   ],
   "source": [
    "float(b)"
   ]
  },
  {
   "cell_type": "markdown",
   "id": "f4342fa7-f1fb-4f7f-85f8-6232a4942257",
   "metadata": {},
   "source": [
    "### String to integer "
   ]
  },
  {
   "cell_type": "code",
   "execution_count": 40,
   "id": "c094a729-c45c-4c97-9f75-acfe786f62cf",
   "metadata": {},
   "outputs": [],
   "source": [
    "## character can not be change into number....\n",
    "a = \"pwskills\""
   ]
  },
  {
   "cell_type": "code",
   "execution_count": 41,
   "id": "32dbdf85-88dc-466b-88f4-4c8293d7b97a",
   "metadata": {},
   "outputs": [
    {
     "ename": "ValueError",
     "evalue": "invalid literal for int() with base 10: 'pwskills'",
     "output_type": "error",
     "traceback": [
      "\u001b[0;31m---------------------------------------------------------------------------\u001b[0m",
      "\u001b[0;31mValueError\u001b[0m                                Traceback (most recent call last)",
      "Cell \u001b[0;32mIn[41], line 1\u001b[0m\n\u001b[0;32m----> 1\u001b[0m \u001b[38;5;28;43mint\u001b[39;49m\u001b[43m(\u001b[49m\u001b[43ma\u001b[49m\u001b[43m)\u001b[49m\n",
      "\u001b[0;31mValueError\u001b[0m: invalid literal for int() with base 10: 'pwskills'"
     ]
    }
   ],
   "source": [
    "int(a)"
   ]
  },
  {
   "cell_type": "markdown",
   "id": "e989cfe3-22c5-49e5-8d71-164c76592be5",
   "metadata": {},
   "source": [
    "### Integer to string"
   ]
  },
  {
   "cell_type": "code",
   "execution_count": 42,
   "id": "b0993b3a-e84d-4daf-a7d3-168e9bb59334",
   "metadata": {},
   "outputs": [],
   "source": [
    "a = 2"
   ]
  },
  {
   "cell_type": "code",
   "execution_count": 43,
   "id": "e1bf3aa0-218a-46f2-afd6-72b38eb3364e",
   "metadata": {},
   "outputs": [
    {
     "data": {
      "text/plain": [
       "'2'"
      ]
     },
     "execution_count": 43,
     "metadata": {},
     "output_type": "execute_result"
    }
   ],
   "source": [
    "str(a)"
   ]
  },
  {
   "cell_type": "code",
   "execution_count": 45,
   "id": "a9df9822-3caf-4f66-b908-b9c3237d130b",
   "metadata": {},
   "outputs": [],
   "source": [
    "b= 45"
   ]
  },
  {
   "cell_type": "code",
   "execution_count": 46,
   "id": "a463f080-8b76-4f39-91ff-057d1452aa76",
   "metadata": {},
   "outputs": [
    {
     "data": {
      "text/plain": [
       "'45'"
      ]
     },
     "execution_count": 46,
     "metadata": {},
     "output_type": "execute_result"
    }
   ],
   "source": [
    "str(b)"
   ]
  },
  {
   "cell_type": "markdown",
   "id": "74650134-dbe4-4133-ac34-2d46ae1e1f5e",
   "metadata": {},
   "source": [
    "### Boolean value"
   ]
  },
  {
   "cell_type": "code",
   "execution_count": 47,
   "id": "63c008b1-8ef9-4be1-997b-8162b9f15a7d",
   "metadata": {},
   "outputs": [
    {
     "data": {
      "text/plain": [
       "True"
      ]
     },
     "execution_count": 47,
     "metadata": {},
     "output_type": "execute_result"
    }
   ],
   "source": [
    "bool(1)"
   ]
  },
  {
   "cell_type": "code",
   "execution_count": 49,
   "id": "b6c57019-9bbc-4996-822e-c76021d590b3",
   "metadata": {},
   "outputs": [
    {
     "data": {
      "text/plain": [
       "True"
      ]
     },
     "execution_count": 49,
     "metadata": {},
     "output_type": "execute_result"
    }
   ],
   "source": [
    "bool(\"pwskills\")"
   ]
  },
  {
   "cell_type": "code",
   "execution_count": 50,
   "id": "a0ae5802-f9a5-476a-bf6a-8b1ebaaecf67",
   "metadata": {},
   "outputs": [
    {
     "data": {
      "text/plain": [
       "True"
      ]
     },
     "execution_count": 50,
     "metadata": {},
     "output_type": "execute_result"
    }
   ],
   "source": [
    "bool(-22)"
   ]
  },
  {
   "cell_type": "code",
   "execution_count": null,
   "id": "cf12e5a3-d44b-445e-8ad2-f6d6480e9e30",
   "metadata": {},
   "outputs": [],
   "source": [
    "### only zero and empty string are showing false..."
   ]
  },
  {
   "cell_type": "code",
   "execution_count": 54,
   "id": "81773ec5-de5b-46a8-b8e5-be01f746e106",
   "metadata": {},
   "outputs": [
    {
     "data": {
      "text/plain": [
       "False"
      ]
     },
     "execution_count": 54,
     "metadata": {},
     "output_type": "execute_result"
    }
   ],
   "source": [
    "bool(\"\")"
   ]
  },
  {
   "cell_type": "code",
   "execution_count": 52,
   "id": "95b5a838-ab76-437f-afd7-e217cbe5678d",
   "metadata": {},
   "outputs": [
    {
     "data": {
      "text/plain": [
       "False"
      ]
     },
     "execution_count": 52,
     "metadata": {},
     "output_type": "execute_result"
    }
   ],
   "source": [
    "bool(0)"
   ]
  },
  {
   "cell_type": "code",
   "execution_count": null,
   "id": "58e068f0-c0e3-439a-abe4-23884694d430",
   "metadata": {},
   "outputs": [],
   "source": []
  },
  {
   "cell_type": "markdown",
   "id": "1f5d3504-8d5b-4fd5-b41e-9eb61e720ad7",
   "metadata": {},
   "source": [
    "### Question (6) How do conditional statement work in python? illustrate with examples."
   ]
  },
  {
   "cell_type": "raw",
   "id": "7327df62-4b0a-424c-a943-0ee83db053cb",
   "metadata": {},
   "source": [
    "Ans = Conditional Statements are statements in Python that provide a choice for the control flow based on a condition. \n",
    "It means that the control flow of the Python program will be decided based on the outcome of the condition..\n",
    "condition statement help you to code decision based on some precondition..."
   ]
  },
  {
   "cell_type": "markdown",
   "id": "9d687ad6-cfa5-4abf-b018-045372558ed9",
   "metadata": {
    "jp-MarkdownHeadingCollapsed": true,
    "tags": []
   },
   "source": [
    "## Conditional statement"
   ]
  },
  {
   "cell_type": "markdown",
   "id": "f1f524e9-dc00-4d1e-b539-81b397414106",
   "metadata": {},
   "source": [
    "## * if \n",
    "## * else\n",
    "## * elif\n",
    "## * nested else.."
   ]
  },
  {
   "cell_type": "code",
   "execution_count": 4,
   "id": "c885f106-7b83-4a16-8531-644549aa4413",
   "metadata": {},
   "outputs": [],
   "source": [
    "## if statement syntax if condition are true block of code will be executed.."
   ]
  },
  {
   "cell_type": "markdown",
   "id": "8937619e-2c08-4ccc-afe3-52b1e0df20af",
   "metadata": {},
   "source": [
    "### IF"
   ]
  },
  {
   "cell_type": "code",
   "execution_count": 6,
   "id": "e3a4069c-aeab-4345-aafb-939d2d270ff4",
   "metadata": {},
   "outputs": [
    {
     "name": "stdout",
     "output_type": "stream",
     "text": [
      "the number is greater than zero\n"
     ]
    }
   ],
   "source": [
    "a = 100\n",
    "if a>0:\n",
    "    print(\"the number is greater than zero\")## execute the if block  if condition are true.."
   ]
  },
  {
   "cell_type": "code",
   "execution_count": 14,
   "id": "9bac91ed-e6b0-48cf-a18f-623e5be686ee",
   "metadata": {},
   "outputs": [
    {
     "name": "stdout",
     "output_type": "stream",
     "text": [
      "the number is greater than tweenty five\n"
     ]
    }
   ],
   "source": [
    "b = 200 \n",
    "if b>25:\n",
    "    print(\"the number is greater than tweenty five\")"
   ]
  },
  {
   "cell_type": "code",
   "execution_count": 21,
   "id": "1838dedb-d9bc-4cfd-8367-ede97f5c0a07",
   "metadata": {},
   "outputs": [
    {
     "ename": "IndentationError",
     "evalue": "expected an indented block after 'if' statement on line 2 (3957532993.py, line 3)",
     "output_type": "error",
     "traceback": [
      "\u001b[0;36m  Cell \u001b[0;32mIn[21], line 3\u001b[0;36m\u001b[0m\n\u001b[0;31m    print(\"i will not play cricket\")\u001b[0m\n\u001b[0m    ^\u001b[0m\n\u001b[0;31mIndentationError\u001b[0m\u001b[0;31m:\u001b[0m expected an indented block after 'if' statement on line 2\n"
     ]
    }
   ],
   "source": [
    "## this code will be are not executed because indentation are nescessary...\n",
    "weather = \"rainey\"\n",
    "if weather == \"rainey\": \n",
    "print(\"i will not play cricket\")"
   ]
  },
  {
   "cell_type": "code",
   "execution_count": 22,
   "id": "b20ddec1-9a1a-430b-ba31-9a2cdedfa355",
   "metadata": {},
   "outputs": [
    {
     "name": "stdout",
     "output_type": "stream",
     "text": [
      "i will not play cricket\n"
     ]
    }
   ],
   "source": [
    "##example of indentation==\n",
    "weather = \"rainey\"\n",
    "if weather == \"rainey\": \n",
    "    print(\"i will not play cricket\")"
   ]
  },
  {
   "cell_type": "code",
   "execution_count": 23,
   "id": "b582ce5d-ed99-4d22-8f21-a8815f80a4b3",
   "metadata": {},
   "outputs": [
    {
     "name": "stdout",
     "output_type": "stream",
     "text": [
      "you are all rounder\n"
     ]
    }
   ],
   "source": [
    "## in a real life decision are made based on multiple condtion....\n",
    "##example==\n",
    "grade = 8\n",
    "co_cirr = True\n",
    "if ((grade >=8) and (co_cirr == True)):\n",
    "    print(\"you are all rounder\")"
   ]
  },
  {
   "cell_type": "code",
   "execution_count": 24,
   "id": "5e2822af-eb98-4a8a-9504-45b56870ce29",
   "metadata": {},
   "outputs": [],
   "source": [
    "## in real life have multiple condition if one condition is not full fill you will do you something else..\n",
    "## example == if weather is not rainey i will go to play cricket else i will watch a tv.."
   ]
  },
  {
   "cell_type": "markdown",
   "id": "81cedc79-fd0f-4def-b25f-9de2347a82a5",
   "metadata": {},
   "source": [
    "### ELSE"
   ]
  },
  {
   "cell_type": "code",
   "execution_count": 25,
   "id": "dd575431-b3f8-4217-a225-7975d50731ed",
   "metadata": {},
   "outputs": [
    {
     "name": "stdout",
     "output_type": "stream",
     "text": [
      "i will watch a tv\n"
     ]
    }
   ],
   "source": [
    "weather = \"rainey\"\n",
    "if weather == \"rainey\":  ## if condition are than execute a if block..\n",
    "    print(\"i will watch a tv\")\n",
    "else:\n",
    "    print(\"i will go to play cricket\")"
   ]
  },
  {
   "cell_type": "code",
   "execution_count": 26,
   "id": "1568f899-9445-429c-99c4-1f2e9d4e7b0c",
   "metadata": {},
   "outputs": [
    {
     "name": "stdout",
     "output_type": "stream",
     "text": [
      "i will go to play cricket\n"
     ]
    }
   ],
   "source": [
    "weather = \"sunny\"\n",
    "if weather == \"rainey\":  ## if condition are not true execute a else block...\n",
    "    print(\"i will watch a tv\")\n",
    "else:\n",
    "    print(\"i will go to play cricket\")"
   ]
  },
  {
   "cell_type": "code",
   "execution_count": 29,
   "id": "cb5a051d-7180-4ac3-ac03-0a578b2559fc",
   "metadata": {},
   "outputs": [
    {
     "name": "stdout",
     "output_type": "stream",
     "text": [
      "get out of the bar\n"
     ]
    }
   ],
   "source": [
    "### One more example \n",
    "age = 15\n",
    "if age >= 18:\n",
    "    print(\"serve the alchool\")\n",
    "else:\n",
    "    print(\"get out of the bar\")"
   ]
  },
  {
   "cell_type": "code",
   "execution_count": 30,
   "id": "9bc0e3e9-f29d-4275-81cb-2cc66a77735d",
   "metadata": {},
   "outputs": [
    {
     "name": "stdout",
     "output_type": "stream",
     "text": [
      "serve the alchool\n"
     ]
    }
   ],
   "source": [
    "age = 20\n",
    "if age >= 18:\n",
    "    print(\"serve the alchool\")\n",
    "else:\n",
    "    print(\"get out of the bar\")"
   ]
  },
  {
   "cell_type": "code",
   "execution_count": 31,
   "id": "af345298-d89a-4191-8cca-aff160822377",
   "metadata": {},
   "outputs": [],
   "source": [
    "## if in real life you have facing two or more multiple condition... \n",
    "## elif some condition"
   ]
  },
  {
   "cell_type": "markdown",
   "id": "febd815b-9f92-465a-af31-6827a0587295",
   "metadata": {},
   "source": [
    "### ELIF"
   ]
  },
  {
   "cell_type": "code",
   "execution_count": 36,
   "id": "0a9c647c-4dc4-4d31-8999-5340b654ac48",
   "metadata": {},
   "outputs": [
    {
     "name": "stdout",
     "output_type": "stream",
     "text": [
      "this number is greater than 50\n"
     ]
    }
   ],
   "source": [
    "## if we have a multiple condition if we can true if than execute a if block..\n",
    "a = 500\n",
    "if a > 50:\n",
    "    print(\"this number is greater than 50\")\n",
    "elif a < 50:\n",
    "    print(\"this number is lesser than 50\")\n",
    "else:\n",
    "    print(\"equal a number of 50\")"
   ]
  },
  {
   "cell_type": "code",
   "execution_count": 37,
   "id": "a6c2697c-2b88-40c8-a40c-a827c8126355",
   "metadata": {},
   "outputs": [
    {
     "name": "stdout",
     "output_type": "stream",
     "text": [
      "this number is lesser than 50\n"
     ]
    }
   ],
   "source": [
    "## if we can true elif than execute a elif block..\n",
    "a = 25\n",
    "if a > 50:\n",
    "    print(\"this number is greater than 50\")\n",
    "elif a < 50:\n",
    "    print(\"this number is lesser than 50\")\n",
    "else:\n",
    "    print(\"equal a number of 50\")"
   ]
  },
  {
   "cell_type": "code",
   "execution_count": 38,
   "id": "4c3747d6-b4c2-4303-9476-19ed7674c58d",
   "metadata": {},
   "outputs": [
    {
     "name": "stdout",
     "output_type": "stream",
     "text": [
      "equal a number of 50\n"
     ]
    }
   ],
   "source": [
    "## if we can true else block than execute a else block..\n",
    "a = 50\n",
    "if a > 50:\n",
    "    print(\"this number is greater than 50\")\n",
    "elif a < 50:\n",
    "    print(\"this number is lesser than 50\")\n",
    "else:\n",
    "    print(\"equal a number of 50\")"
   ]
  },
  {
   "cell_type": "markdown",
   "id": "f559f412-660c-4cf9-b34a-6a96195035df",
   "metadata": {},
   "source": [
    "### Nested of else"
   ]
  },
  {
   "cell_type": "code",
   "execution_count": null,
   "id": "e3a52ff5-6a41-497e-ba2b-d1d1ab781ac2",
   "metadata": {},
   "outputs": [],
   "source": [
    "## Nested of else statement is when you have an if-else inside another if or else block..\n",
    "## its like placeing one decision within another decision..."
   ]
  },
  {
   "cell_type": "code",
   "execution_count": 40,
   "id": "762c1949-1723-4377-a18c-8c7980cc4f77",
   "metadata": {},
   "outputs": [
    {
     "name": "stdout",
     "output_type": "stream",
     "text": [
      "X and Y is both are greater than 5\n"
     ]
    }
   ],
   "source": [
    "## nested of else>> u can have multiple if else inside if else\n",
    "## Example==\n",
    "x = 6 \n",
    "y = 6\n",
    "if x > 5:\n",
    "    if y > 5:\n",
    "        print(\"X and Y is both are greater than 5\")\n",
    "    else:\n",
    "        print(\"X is greater than 5 and Y is less than 5\")\n",
    "else:\n",
    "    print(\"X is greater than 5\")"
   ]
  },
  {
   "cell_type": "code",
   "execution_count": 43,
   "id": "cdaf14a1-0dd7-4d89-bc2b-5169d8229301",
   "metadata": {},
   "outputs": [
    {
     "name": "stdout",
     "output_type": "stream",
     "text": [
      "X is greater than 5 and Y is less than 5\n"
     ]
    }
   ],
   "source": [
    "x = 6\n",
    "y = 4\n",
    "if x > 5:\n",
    "    if y > 5:\n",
    "        print(\"X and Y is both are greater than 5\")\n",
    "    else:\n",
    "        print(\"X is greater than 5 and Y is less than 5\")\n",
    "else:\n",
    "    print(\"X is greater than 5\")"
   ]
  },
  {
   "cell_type": "code",
   "execution_count": 45,
   "id": "147519c7-a5d1-4998-9ac7-79b5ca3b8870",
   "metadata": {},
   "outputs": [
    {
     "name": "stdout",
     "output_type": "stream",
     "text": [
      "X and Y is less than 5\n"
     ]
    }
   ],
   "source": [
    "x = 4\n",
    "y = 4\n",
    "if x > 5:\n",
    "    if y > 5:\n",
    "        print(\"X and Y is both are greater than 5\")\n",
    "    else:\n",
    "        print(\"X is greater than 5 and Y is less than 5\")\n",
    "else:\n",
    "    print(\"X and Y is less than 5\")"
   ]
  },
  {
   "cell_type": "code",
   "execution_count": 48,
   "id": "25fe8596-785f-4be8-84ec-8977b8a0ed9c",
   "metadata": {},
   "outputs": [
    {
     "name": "stdin",
     "output_type": "stream",
     "text": [
      "Enter your name  Abhishek\n",
      "Enter your email abhsiek@123\n",
      "Enter your password abhisek\n"
     ]
    },
    {
     "name": "stdout",
     "output_type": "stream",
     "text": [
      "login succefully\n"
     ]
    }
   ],
   "source": [
    "## if we all condition are true than execute it...\n",
    "name = input(\"Enter your name \")\n",
    "email = input(\"Enter your email\")\n",
    "password = input(\"Enter your password\")\n",
    "\n",
    "if name == (\"\"):\n",
    "    print(\"Please enter a valid name\")\n",
    "else:\n",
    "    if \"@\" not in email:\n",
    "        print(\"Please enter a valid email\")\n",
    "    else:\n",
    "        if len(password) < 2:\n",
    "            print(\"Please enter a valid password\")\n",
    "        else:\n",
    "            print(\"login succefully\")"
   ]
  },
  {
   "cell_type": "code",
   "execution_count": 50,
   "id": "a6997783-2584-442b-9b73-7b7dd3e46f44",
   "metadata": {},
   "outputs": [
    {
     "name": "stdin",
     "output_type": "stream",
     "text": [
      "Enter your name  \n",
      "Enter your email abbh@s\n",
      "Enter your password a13111\n"
     ]
    },
    {
     "name": "stdout",
     "output_type": "stream",
     "text": [
      "Please enter a valid name\n"
     ]
    }
   ],
   "source": [
    "## if we can one condition are not true...\n",
    "name = input(\"Enter your name \")\n",
    "email = input(\"Enter your email\")\n",
    "password = input(\"Enter your password\")\n",
    "\n",
    "if name == (\"\"):\n",
    "    print(\"Please enter a valid name\")\n",
    "else:\n",
    "    if \"@\" not in email:\n",
    "        print(\"Please enter a valid email\")\n",
    "    else:\n",
    "        if len(password) < 2:\n",
    "            print(\"Please enter a valid password\")\n",
    "        else:\n",
    "            print(\"login succefully\")"
   ]
  },
  {
   "cell_type": "code",
   "execution_count": 1,
   "id": "ef03a1ec-d927-4e3a-b6ac-fec7a379529e",
   "metadata": {},
   "outputs": [
    {
     "name": "stdin",
     "output_type": "stream",
     "text": [
      "Enter your name  abhishek\n",
      "Enter your email jjabjd\n",
      "Enter your password abhhsa\n"
     ]
    },
    {
     "name": "stdout",
     "output_type": "stream",
     "text": [
      "Please enter a valid email\n"
     ]
    }
   ],
   "source": [
    "## if we can one condition are not true...\n",
    "name = input(\"Enter your name \")\n",
    "email = input(\"Enter your email\")\n",
    "password = input(\"Enter your password\")\n",
    "\n",
    "if name == (\"\"):\n",
    "    print(\"Please enter a valid name\")\n",
    "else:\n",
    "    if \"@\" not in email:\n",
    "        print(\"Please enter a valid email\")\n",
    "    else:\n",
    "        if len(password) < 2:\n",
    "            print(\"Please enter a valid password\")\n",
    "        else:\n",
    "            print(\"login succefully\")"
   ]
  },
  {
   "cell_type": "code",
   "execution_count": 2,
   "id": "ecd93fba-b583-4b5e-b974-0aafd914ba6f",
   "metadata": {},
   "outputs": [
    {
     "name": "stdin",
     "output_type": "stream",
     "text": [
      "Enter your name  abhishek\n",
      "Enter your email abhi@123\n",
      "Enter your password 1\n"
     ]
    },
    {
     "name": "stdout",
     "output_type": "stream",
     "text": [
      "Please enter a valid password\n"
     ]
    }
   ],
   "source": [
    "## if we can one condition are not true...\n",
    "name = input(\"Enter your name \")\n",
    "email = input(\"Enter your email\")\n",
    "password = input(\"Enter your password\")\n",
    "\n",
    "if name == (\"\"):\n",
    "    print(\"Please enter a valid name\")\n",
    "else:\n",
    "    if \"@\" not in email:\n",
    "        print(\"Please enter a valid email\")\n",
    "    else:\n",
    "        if len(password) < 2:\n",
    "            print(\"Please enter a valid password\")\n",
    "        else:\n",
    "            print(\"login succefully\")"
   ]
  },
  {
   "cell_type": "code",
   "execution_count": null,
   "id": "2f1b83ca-c3ea-421c-be5f-6c1266fe8628",
   "metadata": {},
   "outputs": [],
   "source": []
  },
  {
   "cell_type": "code",
   "execution_count": null,
   "id": "d8ba49b9-5811-4520-aba9-0b3c50715049",
   "metadata": {},
   "outputs": [],
   "source": []
  },
  {
   "cell_type": "markdown",
   "id": "72671b51-9d58-421f-aeb4-4776b6059fa2",
   "metadata": {},
   "source": [
    "### Question (7) Describe the different types of loops in python and their use cases with example ??"
   ]
  },
  {
   "cell_type": "markdown",
   "id": "545c0a0e-5748-4cad-a67f-f67546c52e0d",
   "metadata": {},
   "source": [
    "Ans = In python loop are employed to repeat a sequence of action or code until a specific condition is fullfilled.\n",
    "it always you to excute a block of code repeatly...\n",
    "There is a two type of loop :\n",
    "(1) while loop..\n",
    "(2) for loop..."
   ]
  },
  {
   "cell_type": "markdown",
   "id": "521d0fc7-2970-4601-85d7-df283481e933",
   "metadata": {},
   "source": [
    "### While loop "
   ]
  },
  {
   "cell_type": "raw",
   "id": "25a7520d-b501-47eb-80b5-76fcd77323ab",
   "metadata": {},
   "source": [
    "while loop are used for ececuting code untill a specified condition become false.."
   ]
  },
  {
   "cell_type": "markdown",
   "id": "26c02307-0ddb-45ac-8d32-df6a21e663a2",
   "metadata": {},
   "source": [
    "### For loop"
   ]
  },
  {
   "cell_type": "raw",
   "id": "2da74b38-ebbb-4027-a0f8-832337421513",
   "metadata": {},
   "source": [
    "for loop are used for iterating over a sequence of elements..( strings and list)."
   ]
  },
  {
   "cell_type": "markdown",
   "id": "c0048730-4da7-46cc-a7b5-4d43ef97d12e",
   "metadata": {},
   "source": [
    "### Examples for while loop"
   ]
  },
  {
   "cell_type": "code",
   "execution_count": null,
   "id": "e507f405-77bf-4f7f-978b-6d483b78a578",
   "metadata": {},
   "outputs": [],
   "source": [
    "# syntax\n",
    "## while condition\n",
    "### while is a keyword is used for while loop"
   ]
  },
  {
   "cell_type": "code",
   "execution_count": 1,
   "id": "d13b9dff-d465-4efc-968f-9e9a510b3f7d",
   "metadata": {},
   "outputs": [
    {
     "name": "stdout",
     "output_type": "stream",
     "text": [
      "1\n",
      "2\n",
      "3\n",
      "4\n",
      "5\n",
      "6\n"
     ]
    }
   ],
   "source": [
    "## if a condition n = 7 and i = 1 ( 1 < 7 := this condition are true than execute block of code)\n",
    "## i will explain it how to work while loop:\n",
    "### (1<7) i = i+1 = 1 (the value of i is 1.)\n",
    "### (2<7) i = 1+1 = 2 (this is called itration and also value of i is 2.)\n",
    "### (3<7) i = 2+1 = 3\n",
    "### (4<7) i = 3+1 = 4\n",
    "### (5<7) i = 4+1 = 5\n",
    "### (6<7) i = 5+1 = 6\n",
    "### (7<7) === this condtion are false it will break the loop because condition failed..\n",
    "n = 7\n",
    "i = 1\n",
    "while i < n:\n",
    "    print(i)   \n",
    "    i = i+1"
   ]
  },
  {
   "cell_type": "code",
   "execution_count": 2,
   "id": "caed793b-c980-45df-b05d-28f859808174",
   "metadata": {},
   "outputs": [],
   "source": [
    "### condition test\n",
    "## while is conditon is true while is keep ececuting..\n",
    "## if while condition is false it will exit the loop or break the loop.."
   ]
  },
  {
   "cell_type": "code",
   "execution_count": 3,
   "id": "7ca75af5-f310-4066-8d6a-322cb74a79b7",
   "metadata": {},
   "outputs": [
    {
     "name": "stdout",
     "output_type": "stream",
     "text": [
      "2\n",
      "3\n",
      "4\n",
      "5\n",
      "6\n",
      "7\n",
      "8\n",
      "9\n",
      "10\n",
      "11\n",
      "12\n",
      "13\n",
      "14\n",
      "15\n",
      "16\n",
      "17\n",
      "18\n",
      "19\n",
      "20\n",
      "21\n",
      "22\n",
      "23\n",
      "24\n"
     ]
    }
   ],
   "source": [
    "a = 25 \n",
    "b = 2\n",
    "while b < a:\n",
    "    print(b)\n",
    "    b = b+1"
   ]
  },
  {
   "cell_type": "code",
   "execution_count": null,
   "id": "d1fdaa44-fcbb-4966-a463-d7ea77c4896f",
   "metadata": {},
   "outputs": [],
   "source": [
    "## do not run this code beacuse it will run infinite numbers....\n",
    "n = 10\n",
    "i = 1\n",
    "while i < n:\n",
    "    print(i)\n",
    "    i = i-1"
   ]
  },
  {
   "cell_type": "code",
   "execution_count": 3,
   "id": "30beb3bc-ecdf-4426-b428-052ee40c1c76",
   "metadata": {},
   "outputs": [
    {
     "name": "stdout",
     "output_type": "stream",
     "text": [
      "5\n",
      "4\n",
      "3\n",
      "2\n",
      "1\n"
     ]
    }
   ],
   "source": [
    "pw = 5\n",
    "while pw > 0:\n",
    "    print(pw)\n",
    "    pw = pw - 1\n",
    "### 1st itration while loop \n",
    "## 5 > 0 is true than 5 is decrease by 1 = 4\n",
    "## 4 > 0 is true than 4 is decrease by 1 = 3\n",
    "## 3 > 0 is true than 3 is decrease by 1 = 2\n",
    "## 2 > 0 is true than 2 is decrease by 1 = 1\n",
    "## 1 > 0 is true than 1 is decrease by 1 = 0\n",
    "## 0 > 0 this condition are not true it will not enter this block of code..."
   ]
  },
  {
   "cell_type": "code",
   "execution_count": 2,
   "id": "cd1b4206-63f5-4f3b-91ca-d2c72a2bc9a9",
   "metadata": {},
   "outputs": [
    {
     "name": "stdout",
     "output_type": "stream",
     "text": [
      "10\n",
      "9\n",
      "8\n",
      "7\n",
      "6\n",
      "5\n",
      "4\n",
      "3\n",
      "2\n",
      "1\n"
     ]
    }
   ],
   "source": [
    "ab = 10 \n",
    "while ab > 0:\n",
    "    print(ab)\n",
    "    ab = ab - 1"
   ]
  },
  {
   "cell_type": "code",
   "execution_count": 4,
   "id": "40ca7237-0284-4de7-a7ae-9fb4aa1207b1",
   "metadata": {},
   "outputs": [
    {
     "name": "stdout",
     "output_type": "stream",
     "text": [
      "15\n",
      "14\n",
      "13\n",
      "12\n",
      "11\n",
      "10\n",
      "9\n",
      "8\n",
      "7\n",
      "6\n",
      "5\n",
      "4\n",
      "3\n",
      "2\n",
      "1\n"
     ]
    }
   ],
   "source": [
    "bk = 15\n",
    "while bk > 0:\n",
    "    print(bk)\n",
    "    bk = bk - 1"
   ]
  },
  {
   "cell_type": "markdown",
   "id": "2eedcf13-6029-4e60-923a-92da3f32b785",
   "metadata": {},
   "source": [
    "### While else"
   ]
  },
  {
   "cell_type": "code",
   "execution_count": 5,
   "id": "b638f5a6-f494-4a29-96c0-31920ead463d",
   "metadata": {},
   "outputs": [
    {
     "name": "stdout",
     "output_type": "stream",
     "text": [
      "1\n",
      "2\n",
      "3\n",
      "4\n",
      "5\n",
      "6\n",
      "7\n",
      "8\n",
      "9\n",
      "this will be executed when the while is run sucessfully without any failler\n"
     ]
    }
   ],
   "source": [
    "ab = 10 \n",
    "ac = 1\n",
    "while ac < ab:\n",
    "    print(ac)\n",
    "    ac = ac+1\n",
    "else:\n",
    "    print(\"this will be executed when the while is run sucessfully without any failler\")"
   ]
  },
  {
   "cell_type": "code",
   "execution_count": 6,
   "id": "11ba604f-1273-43ef-9c01-230c5dae1ed6",
   "metadata": {},
   "outputs": [
    {
     "name": "stdout",
     "output_type": "stream",
     "text": [
      "15\n",
      "14\n",
      "13\n",
      "12\n",
      "11\n",
      "10\n",
      "9\n",
      "8\n",
      "7\n",
      "6\n",
      "5\n",
      "4\n",
      "3\n",
      "2\n",
      "1\n",
      "this will be executed when the while is run sucessfully without any failler\n"
     ]
    }
   ],
   "source": [
    "ab = 15 \n",
    "while ab > 0:\n",
    "    print(ab)\n",
    "    ab = ab - 1\n",
    "else:\n",
    "    print(\"this will be executed when the while is run sucessfully without any failler\")"
   ]
  },
  {
   "cell_type": "markdown",
   "id": "b07a9bd2-2dce-4dc6-8e22-2bcca063aae2",
   "metadata": {},
   "source": [
    "### while if ( break statement)"
   ]
  },
  {
   "cell_type": "code",
   "execution_count": 14,
   "id": "a7ed771d-696d-488e-869c-3d8521e74452",
   "metadata": {},
   "outputs": [
    {
     "name": "stdout",
     "output_type": "stream",
     "text": [
      "1\n",
      "2\n",
      "3\n",
      "4\n"
     ]
    }
   ],
   "source": [
    "## break terminates / exit the loop...\n",
    "a = 9\n",
    "b = 1\n",
    "while b < a:\n",
    "    print(b)\n",
    "    b = b + 1\n",
    "    if b == 5:\n",
    "        break\n",
    "else:\n",
    "    print(\"this will be executed when the while is run sucessfully\")"
   ]
  },
  {
   "cell_type": "code",
   "execution_count": 16,
   "id": "d13582d8-1518-425e-9070-5fe67ab2eafb",
   "metadata": {},
   "outputs": [
    {
     "name": "stdout",
     "output_type": "stream",
     "text": [
      "2\n",
      "3\n",
      "4\n",
      "5\n",
      "6\n",
      "7\n",
      "8\n"
     ]
    }
   ],
   "source": [
    "\n",
    "ab = 12\n",
    "bc = 2\n",
    "while bc < ab:\n",
    "    print(bc)\n",
    "    bc = bc + 1\n",
    "    if bc == 9:\n",
    "        break\n",
    "else:\n",
    "    print(\"this will be executed when the while is run sucessfully without any break\")"
   ]
  },
  {
   "cell_type": "code",
   "execution_count": 18,
   "id": "3456fd96-d42f-4002-aa07-5dab6c8bef57",
   "metadata": {},
   "outputs": [],
   "source": [
    "## if we are write a keyword print after than break so they are do not execute...\n",
    "ab = 12\n",
    "bc = 2\n",
    "while bc < ab:\n",
    "    \n",
    "    bc = bc + 1\n",
    "    if bc == 9:\n",
    "        break\n",
    "        print(bc)\n",
    "else:\n",
    "    print(\"this will be executed when the while is run sucessfully without any break\")"
   ]
  },
  {
   "cell_type": "markdown",
   "id": "74584a4f-2ccb-4f31-8f77-9eb2fb47ec6c",
   "metadata": {},
   "source": [
    "### while if ( continue statement)"
   ]
  },
  {
   "cell_type": "code",
   "execution_count": 9,
   "id": "b02721c9-c4af-4e61-9a1b-81468db30703",
   "metadata": {},
   "outputs": [
    {
     "name": "stdout",
     "output_type": "stream",
     "text": [
      "2\n",
      "4\n",
      "5\n",
      "6\n",
      "7\n",
      "8\n",
      "9\n",
      "10\n",
      "this will be executed when the while is run sucessfully without any break\n"
     ]
    }
   ],
   "source": [
    "### go inside if  block 3 == 3 this condition is true \n",
    "## if this condition is true it will come to continue..\n",
    "## continue is say please skip the itration don't run any piece of code after this again go back to the loop.. \n",
    "ab = 10 \n",
    "bc = 1 \n",
    "while bc < ab:\n",
    "    bc = bc + 1\n",
    "    if bc == 3:\n",
    "        continue\n",
    "    print(bc)\n",
    "else:\n",
    "    print(\"this will be executed when the while is run sucessfully without any break\")"
   ]
  },
  {
   "cell_type": "code",
   "execution_count": 7,
   "id": "8ee0b82b-9c24-4af4-a753-caf853e66a14",
   "metadata": {},
   "outputs": [
    {
     "name": "stdout",
     "output_type": "stream",
     "text": [
      "2\n",
      "4\n",
      "5\n",
      "6\n",
      "7\n",
      "8\n",
      "9\n",
      "10\n",
      "this will be executed when the while is run sucessfully without any break\n"
     ]
    }
   ],
   "source": [
    "ab = 10 \n",
    "bc = 1 \n",
    "while bc < ab:\n",
    "    bc = bc + 1\n",
    "    if bc == 3:\n",
    "        continue\n",
    "    print(bc)\n",
    "else:\n",
    "    print(\"this will be executed when the while is run sucessfully without any break\")"
   ]
  },
  {
   "cell_type": "code",
   "execution_count": 18,
   "id": "40373e56-d2cb-4226-a65f-e28098e4f497",
   "metadata": {},
   "outputs": [
    {
     "name": "stdout",
     "output_type": "stream",
     "text": [
      "1\n",
      "2\n",
      "3\n",
      "4\n",
      "5\n",
      "6\n",
      "7\n",
      "8\n",
      "9\n",
      "this will be executed when the while is run sucessfully without any break\n"
     ]
    }
   ],
   "source": [
    "## if i write print (keyword) before continue than do not execute if block....\n",
    "## see>>>\n",
    "ab = 10 \n",
    "bc = 1 \n",
    "while bc < ab:\n",
    "    print(bc)\n",
    "    bc = bc + 1\n",
    "    if bc == 3:\n",
    "        continue\n",
    "    \n",
    "else:\n",
    "    print(\"this will be executed when the while is run sucessfully without any break\")"
   ]
  },
  {
   "cell_type": "code",
   "execution_count": 5,
   "id": "aef63d69-b793-4cfb-8f03-5ff7e0cbdcef",
   "metadata": {},
   "outputs": [
    {
     "name": "stdout",
     "output_type": "stream",
     "text": [
      "2\n",
      "3\n",
      "5\n",
      "6\n",
      "7\n",
      "8\n",
      "9\n",
      "10\n",
      "11\n",
      "12\n",
      "13\n",
      "14\n",
      "15\n",
      "16\n",
      "17\n",
      "18\n",
      "19\n",
      "20\n",
      "this will be executed when the while is run sucessfully without any break\n"
     ]
    }
   ],
   "source": [
    "E = 20 \n",
    "D = 1\n",
    "while D < E:\n",
    "    D = D + 1\n",
    "    if D == 4:\n",
    "        continue\n",
    "    print(D)\n",
    "else:\n",
    "    print(\"this will be executed when the while is run sucessfully without any break\")"
   ]
  },
  {
   "cell_type": "markdown",
   "id": "bff746ea-ca15-4f0f-90ff-ed926761f0ea",
   "metadata": {},
   "source": [
    "### For loop"
   ]
  },
  {
   "cell_type": "raw",
   "id": "c09643fc-7eeb-4c31-91de-a7102108d1b2",
   "metadata": {},
   "source": [
    "for loop iterate over a sequence of elements >> strings , list..."
   ]
  },
  {
   "cell_type": "markdown",
   "id": "5375d7c6-e9eb-42dc-953c-0f18cbdef02c",
   "metadata": {},
   "source": [
    "### example for loop"
   ]
  },
  {
   "cell_type": "code",
   "execution_count": 9,
   "id": "94065b13-5f1b-4871-b3d4-c144f47e538e",
   "metadata": {},
   "outputs": [
    {
     "name": "stdout",
     "output_type": "stream",
     "text": [
      "a\n",
      "b\n",
      "h\n",
      "i\n",
      "s\n",
      "h\n",
      "e\n",
      "k\n"
     ]
    }
   ],
   "source": [
    "for i in \"abhishek\":\n",
    "    print(i)## sequence of elements strings..."
   ]
  },
  {
   "cell_type": "code",
   "execution_count": 23,
   "id": "519a8f85-ac2c-44ae-8261-1a31619e6fcc",
   "metadata": {},
   "outputs": [],
   "source": [
    "### list sequence of elements\n"
   ]
  },
  {
   "cell_type": "code",
   "execution_count": 28,
   "id": "615898cd-e897-49a2-a319-b6f034f6d4bf",
   "metadata": {},
   "outputs": [
    {
     "name": "stdout",
     "output_type": "stream",
     "text": [
      "1\n",
      "2\n",
      "ab\n",
      "dc\n"
     ]
    }
   ],
   "source": [
    "l = [ 1, 2, \"ab\", \"dc\"]\n",
    "for dc in l:\n",
    "    print(dc)"
   ]
  },
  {
   "cell_type": "code",
   "execution_count": 29,
   "id": "7cf5c7d5-41b9-4238-80fa-f4bb27f97cb3",
   "metadata": {},
   "outputs": [
    {
     "name": "stdout",
     "output_type": "stream",
     "text": [
      "1\n",
      "2\n",
      "3\n",
      "4\n",
      "5\n",
      "6\n",
      "7\n",
      "abcdef\n"
     ]
    }
   ],
   "source": [
    "listt = [ 1,2,3,4,5,6,7,\"abcdef\"]\n",
    "for int1 in listt:\n",
    "    print(int1)"
   ]
  },
  {
   "cell_type": "code",
   "execution_count": 31,
   "id": "e1cb24ed-860e-4b6f-9f36-4748ee3f6041",
   "metadata": {},
   "outputs": [
    {
     "name": "stdout",
     "output_type": "stream",
     "text": [
      "1\n",
      "2\n",
      "3\n",
      "4\n",
      "5\n",
      "6\n",
      "7\n",
      "abcdef\n",
      "this will be executed when for loop without any break \n"
     ]
    }
   ],
   "source": [
    "### else block\n",
    "listt = [ 1,2,3,4,5,6,7,\"abcdef\"]\n",
    "for int1 in listt:\n",
    "    print(int1)\n",
    "else:\n",
    "    print(\"this will be executed when for loop without any break \")"
   ]
  },
  {
   "cell_type": "markdown",
   "id": "8700d192-5cd8-4232-8e1c-31715cb2efdd",
   "metadata": {},
   "source": [
    "### For loop (break statement)"
   ]
  },
  {
   "cell_type": "code",
   "execution_count": 44,
   "id": "1a383d8a-be08-4c38-b3fe-53351b946733",
   "metadata": {},
   "outputs": [
    {
     "name": "stdout",
     "output_type": "stream",
     "text": [
      "1\n",
      "2\n",
      "3\n",
      "4\n",
      "5\n",
      "ab\n",
      "dc\n",
      "pw\n"
     ]
    }
   ],
   "source": [
    "## break statement\n",
    "ab = [ 1,2,3,4,5, \"ab\",\"dc\",\"pw\",\"skills\",\"data\"]\n",
    "for i in ab:\n",
    "    if i == \"skills\":\n",
    "        break\n",
    "    print(i)\n",
    "else:\n",
    "    print(\"this will be executed when for loop without any break\")"
   ]
  },
  {
   "cell_type": "code",
   "execution_count": 48,
   "id": "dcfaa0aa-714e-4087-9302-4eabb8756911",
   "metadata": {},
   "outputs": [
    {
     "name": "stdout",
     "output_type": "stream",
     "text": [
      "1\n",
      "2\n"
     ]
    }
   ],
   "source": [
    "ab = [ 1,2,3,4,5, \"ab\",\"dc\",\"pw\",\"skills\",\"data\"]\n",
    "for data in ab:\n",
    "    if data == 3:\n",
    "        break\n",
    "    print(data)\n",
    "else:\n",
    "    print(\"this will be executed when for loop without any break\")"
   ]
  },
  {
   "cell_type": "code",
   "execution_count": 51,
   "id": "70ab04db-2d18-4b2c-9ca5-f556c29dbed0",
   "metadata": {},
   "outputs": [
    {
     "name": "stdout",
     "output_type": "stream",
     "text": [
      "abhishek\n",
      "mohsin\n"
     ]
    }
   ],
   "source": [
    "abc = [ \"abhishek\" , \"mohsin\" , \"sanjeev\" , \"jordan\"]\n",
    "for mohsin in abc:\n",
    "    if mohsin == \"sanjeev\":\n",
    "        break\n",
    "    print(mohsin)\n",
    "        "
   ]
  },
  {
   "cell_type": "code",
   "execution_count": 16,
   "id": "6c32ea6b-1f58-4a78-b10c-7ab06424045b",
   "metadata": {},
   "outputs": [
    {
     "name": "stdout",
     "output_type": "stream",
     "text": [
      "milk\n",
      "cream\n",
      "butter\n",
      "bread\n"
     ]
    }
   ],
   "source": [
    "## do not execute block of code else part...\n",
    "rasan_listt = [  \"milk\", \"cream\", \"butter\", \"bread\", \"non-veg\", \"tandoor roasted\", \"egg biryani\"]\n",
    "for milk in rasan_listt:\n",
    "    if milk == \"non-veg\":\n",
    "        break\n",
    "    print(milk)\n",
    "else:\n",
    "    print(\"rahul are vegetarian\")\n",
    "    "
   ]
  },
  {
   "cell_type": "markdown",
   "id": "db2d0f8f-268e-4989-b653-5a7c32895510",
   "metadata": {},
   "source": [
    "### For loop ( continue statement)"
   ]
  },
  {
   "cell_type": "code",
   "execution_count": 20,
   "id": "7857ba64-c28a-4313-9757-d55bb0843bfb",
   "metadata": {},
   "outputs": [
    {
     "name": "stdout",
     "output_type": "stream",
     "text": [
      "bread\n",
      "ghee\n",
      "apple\n",
      "paneer\n",
      "custord\n",
      "dal chawal\n",
      "rahul is vegetarian\n"
     ]
    }
   ],
   "source": [
    "Rasan_list = [\"bread\",\"ghee\",\"apple\",\"paneer\",\"custord\",\"non-veg roasted\" , \"dal chawal\"]\n",
    "for ghee in Rasan_list:\n",
    "    if ghee== \"non-veg roasted\":\n",
    "        continue\n",
    "    print(ghee)\n",
    "else:\n",
    "    print(\"rahul is vegetarian\")"
   ]
  },
  {
   "cell_type": "markdown",
   "id": "7c4d02cf-18a1-4c92-83ae-53d00a2ef415",
   "metadata": {},
   "source": [
    "### Range function"
   ]
  },
  {
   "cell_type": "code",
   "execution_count": 25,
   "id": "c105b9bd-414a-4123-ab1f-7a8cd8676c7b",
   "metadata": {},
   "outputs": [
    {
     "data": {
      "text/plain": [
       "range(0, 10)"
      ]
     },
     "execution_count": 25,
     "metadata": {},
     "output_type": "execute_result"
    }
   ],
   "source": [
    "range(0,10)\n"
   ]
  },
  {
   "cell_type": "code",
   "execution_count": 30,
   "id": "8be301d3-1a27-4d5a-b3de-7d7a445b9713",
   "metadata": {},
   "outputs": [
    {
     "data": {
      "text/plain": [
       "[0, 1, 2, 3, 4, 5, 6, 7, 8, 9]"
      ]
     },
     "execution_count": 30,
     "metadata": {},
     "output_type": "execute_result"
    }
   ],
   "source": [
    "list(range(0 , 10))\n",
    "## it will be value give from 0 to 9 using list keyword>>>>"
   ]
  },
  {
   "cell_type": "code",
   "execution_count": 31,
   "id": "782144bd-010b-43ad-9a2a-e5c92114cf36",
   "metadata": {},
   "outputs": [
    {
     "name": "stdout",
     "output_type": "stream",
     "text": [
      "0\n",
      "1\n",
      "2\n",
      "3\n",
      "4\n",
      "5\n",
      "6\n",
      "7\n",
      "8\n",
      "9\n",
      "10\n",
      "11\n",
      "12\n",
      "13\n",
      "14\n",
      "15\n",
      "16\n",
      "17\n",
      "18\n",
      "19\n",
      "20\n",
      "21\n",
      "22\n",
      "23\n",
      "24\n",
      "25\n",
      "26\n",
      "27\n",
      "28\n",
      "29\n"
     ]
    }
   ],
   "source": [
    "for i in range(30):\n",
    "    print(i)"
   ]
  },
  {
   "cell_type": "code",
   "execution_count": 33,
   "id": "64083b34-d625-452f-8433-63b32dcac0d8",
   "metadata": {},
   "outputs": [
    {
     "name": "stdout",
     "output_type": "stream",
     "text": [
      "0 1 2 3 4 5 6 7 8 9 10 11 12 13 14 15 16 17 18 19 "
     ]
    }
   ],
   "source": [
    "for l in range(20):\n",
    "    print(l, end=\" \")"
   ]
  },
  {
   "cell_type": "code",
   "execution_count": 47,
   "id": "c4f1401f-1a09-4be2-a455-898d6324b43f",
   "metadata": {},
   "outputs": [
    {
     "data": {
      "text/plain": [
       "[0, 1, 2, 3, 4, 5, 6, 7, 8, 9, 10, 11, 12, 13, 14, 15, 16, 17, 18, 19]"
      ]
     },
     "execution_count": 47,
     "metadata": {},
     "output_type": "execute_result"
    }
   ],
   "source": [
    "## syntax of range >> start , stop , step...\n",
    "### start\n",
    "list(range(20))"
   ]
  },
  {
   "cell_type": "code",
   "execution_count": 46,
   "id": "4bd587c6-99dc-480f-b968-89457ab56bfe",
   "metadata": {},
   "outputs": [
    {
     "data": {
      "text/plain": [
       "[5, 6, 7, 8, 9, 10, 11, 12, 13, 14, 15, 16, 17, 18, 19]"
      ]
     },
     "execution_count": 46,
     "metadata": {},
     "output_type": "execute_result"
    }
   ],
   "source": [
    "## start >> stop\n",
    "list(range(5,20))"
   ]
  },
  {
   "cell_type": "code",
   "execution_count": 48,
   "id": "ebbd2520-dd44-481f-b12c-bd6742140e34",
   "metadata": {},
   "outputs": [
    {
     "data": {
      "text/plain": [
       "[0, 3, 6, 9, 12, 15, 18]"
      ]
     },
     "execution_count": 48,
     "metadata": {},
     "output_type": "execute_result"
    }
   ],
   "source": [
    "## start >> stop >> step..\n",
    "list(range(0 , 20 ,3))"
   ]
  },
  {
   "cell_type": "code",
   "execution_count": null,
   "id": "2f197d5c-d55e-43b3-a694-3f7583824eff",
   "metadata": {},
   "outputs": [],
   "source": []
  }
 ],
 "metadata": {
  "kernelspec": {
   "display_name": "Python 3 (ipykernel)",
   "language": "python",
   "name": "python3"
  },
  "language_info": {
   "codemirror_mode": {
    "name": "ipython",
    "version": 3
   },
   "file_extension": ".py",
   "mimetype": "text/x-python",
   "name": "python",
   "nbconvert_exporter": "python",
   "pygments_lexer": "ipython3",
   "version": "3.10.8"
  },
  "toc-autonumbering": false,
  "toc-showmarkdowntxt": false,
  "toc-showtags": false
 },
 "nbformat": 4,
 "nbformat_minor": 5
}
